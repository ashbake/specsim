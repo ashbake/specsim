{
 "cells": [
  {
   "cell_type": "code",
   "execution_count": 73,
   "metadata": {},
   "outputs": [],
   "source": [
    "import pandas as pd\n",
    "import numpy as np"
   ]
  },
  {
   "cell_type": "code",
   "execution_count": 75,
   "metadata": {},
   "outputs": [],
   "source": [
    "f_before = pd.read_csv('/Users/huihaoz/specsim/_Data/WFE/AO/HOWFE_NFIRAOS.csv',header=[0,1,2,3])"
   ]
  },
  {
   "cell_type": "code",
   "execution_count": 76,
   "metadata": {},
   "outputs": [],
   "source": [
    "f = f_before['good']['60']"
   ]
  },
  {
   "cell_type": "code",
   "execution_count": 81,
   "metadata": {},
   "outputs": [
    {
     "data": {
      "text/plain": [
       "'NGS'"
      ]
     },
     "execution_count": 81,
     "metadata": {},
     "output_type": "execute_result"
    }
   ],
   "source": [
    "f.columns[1][0]"
   ]
  },
  {
   "cell_type": "code",
   "execution_count": 55,
   "metadata": {},
   "outputs": [],
   "source": [
    "factor_0 = so.stel.factor_0 * 10**(0.4*so.ao.mag)\n",
    "if type(so.ao.ho_wfe_set) is str:\n",
    "    f_before = pd.read_csv(so.ao.ho_wfe_set,header=[0,1,2,3])\n",
    "    mags             = f_before['seeing'].values.T[0]\n",
    "    f = f_before[so.tel.seeing][so.tel.zenith]\n",
    "    so.ao.modes = f.columns\n",
    "for i in range(len(f.columns)):\n",
    "    wfes = f[f.columns[i][0]].values.T[0]\n",
    "    ho_wfe_band= f.columns[i][1]\n",
    "    ho_wfe_mag,x_test3,y_test3 = get_band_mag(so,'Johnson',ho_wfe_band,so.stel.factor_0)\n",
    "    f_howfe = interpolate.interp1d(mags,wfes, bounds_error=False,fill_value=10000)\n",
    "    ao_ho_wfe     = float(f_howfe(ho_wfe_mag))\n",
    "    strehl_ho = wfe_tools.calc_strehl(ao_ho_wfe,so.filt.center_wavelength)\n",
    "    ho_wfe.append(ao_ho_wfe)\n",
    "    ao_ho_wfe_band.append(ho_wfe_band)\n",
    "    ao_ho_wfe_mag.append(ho_wfe_mag)\n",
    "    sr_ho.append(strehl_ho)"
   ]
  },
  {
   "cell_type": "code",
   "execution_count": 40,
   "metadata": {},
   "outputs": [],
   "source": [
    "test_table = pd.read_csv('/Users/huihaoz/specsim/_Data/WFE/AO/HOWFE_NFIRAOS.csv',header=[0,1,2,3])"
   ]
  },
  {
   "cell_type": "code",
   "execution_count": 43,
   "metadata": {},
   "outputs": [
    {
     "data": {
      "text/html": [
       "<div>\n",
       "<style scoped>\n",
       "    .dataframe tbody tr th:only-of-type {\n",
       "        vertical-align: middle;\n",
       "    }\n",
       "\n",
       "    .dataframe tbody tr th {\n",
       "        vertical-align: top;\n",
       "    }\n",
       "\n",
       "    .dataframe thead tr th {\n",
       "        text-align: left;\n",
       "    }\n",
       "</style>\n",
       "<table border=\"1\" class=\"dataframe\">\n",
       "  <thead>\n",
       "    <tr>\n",
       "      <th></th>\n",
       "      <th>zenith</th>\n",
       "    </tr>\n",
       "    <tr>\n",
       "      <th></th>\n",
       "      <th>mag</th>\n",
       "    </tr>\n",
       "    <tr>\n",
       "      <th></th>\n",
       "      <th>Band</th>\n",
       "    </tr>\n",
       "  </thead>\n",
       "  <tbody>\n",
       "    <tr>\n",
       "      <th>0</th>\n",
       "      <td>0.01</td>\n",
       "    </tr>\n",
       "    <tr>\n",
       "      <th>1</th>\n",
       "      <td>1.00</td>\n",
       "    </tr>\n",
       "    <tr>\n",
       "      <th>2</th>\n",
       "      <td>2.00</td>\n",
       "    </tr>\n",
       "    <tr>\n",
       "      <th>3</th>\n",
       "      <td>3.00</td>\n",
       "    </tr>\n",
       "    <tr>\n",
       "      <th>4</th>\n",
       "      <td>4.00</td>\n",
       "    </tr>\n",
       "    <tr>\n",
       "      <th>5</th>\n",
       "      <td>5.00</td>\n",
       "    </tr>\n",
       "    <tr>\n",
       "      <th>6</th>\n",
       "      <td>6.00</td>\n",
       "    </tr>\n",
       "    <tr>\n",
       "      <th>7</th>\n",
       "      <td>7.00</td>\n",
       "    </tr>\n",
       "    <tr>\n",
       "      <th>8</th>\n",
       "      <td>8.00</td>\n",
       "    </tr>\n",
       "    <tr>\n",
       "      <th>9</th>\n",
       "      <td>9.00</td>\n",
       "    </tr>\n",
       "    <tr>\n",
       "      <th>10</th>\n",
       "      <td>10.00</td>\n",
       "    </tr>\n",
       "    <tr>\n",
       "      <th>11</th>\n",
       "      <td>11.00</td>\n",
       "    </tr>\n",
       "    <tr>\n",
       "      <th>12</th>\n",
       "      <td>12.00</td>\n",
       "    </tr>\n",
       "    <tr>\n",
       "      <th>13</th>\n",
       "      <td>13.00</td>\n",
       "    </tr>\n",
       "    <tr>\n",
       "      <th>14</th>\n",
       "      <td>14.00</td>\n",
       "    </tr>\n",
       "    <tr>\n",
       "      <th>15</th>\n",
       "      <td>15.00</td>\n",
       "    </tr>\n",
       "    <tr>\n",
       "      <th>16</th>\n",
       "      <td>16.00</td>\n",
       "    </tr>\n",
       "    <tr>\n",
       "      <th>17</th>\n",
       "      <td>17.00</td>\n",
       "    </tr>\n",
       "    <tr>\n",
       "      <th>18</th>\n",
       "      <td>18.00</td>\n",
       "    </tr>\n",
       "    <tr>\n",
       "      <th>19</th>\n",
       "      <td>19.00</td>\n",
       "    </tr>\n",
       "    <tr>\n",
       "      <th>20</th>\n",
       "      <td>20.00</td>\n",
       "    </tr>\n",
       "    <tr>\n",
       "      <th>21</th>\n",
       "      <td>21.00</td>\n",
       "    </tr>\n",
       "  </tbody>\n",
       "</table>\n",
       "</div>"
      ],
      "text/plain": [
       "   zenith\n",
       "      mag\n",
       "     Band\n",
       "0    0.01\n",
       "1    1.00\n",
       "2    2.00\n",
       "3    3.00\n",
       "4    4.00\n",
       "5    5.00\n",
       "6    6.00\n",
       "7    7.00\n",
       "8    8.00\n",
       "9    9.00\n",
       "10  10.00\n",
       "11  11.00\n",
       "12  12.00\n",
       "13  13.00\n",
       "14  14.00\n",
       "15  15.00\n",
       "16  16.00\n",
       "17  17.00\n",
       "18  18.00\n",
       "19  19.00\n",
       "20  20.00\n",
       "21  21.00"
      ]
     },
     "execution_count": 43,
     "metadata": {},
     "output_type": "execute_result"
    }
   ],
   "source": [
    "test_table['seeing']"
   ]
  },
  {
   "cell_type": "code",
   "execution_count": 33,
   "metadata": {},
   "outputs": [
    {
     "data": {
      "text/plain": [
       "MultiIndex([('LGS_ON', 'R'),\n",
       "            (   'NGS', 'R')],\n",
       "           )"
      ]
     },
     "execution_count": 33,
     "metadata": {},
     "output_type": "execute_result"
    }
   ],
   "source": [
    "test_table.columns"
   ]
  },
  {
   "cell_type": "code",
   "execution_count": 39,
   "metadata": {},
   "outputs": [
    {
     "ename": "SyntaxError",
     "evalue": "invalid syntax (1404649890.py, line 1)",
     "output_type": "error",
     "traceback": [
      "\u001b[0;36m  Input \u001b[0;32mIn [39]\u001b[0;36m\u001b[0m\n\u001b[0;31m    test_table[]\u001b[0m\n\u001b[0m               ^\u001b[0m\n\u001b[0;31mSyntaxError\u001b[0m\u001b[0;31m:\u001b[0m invalid syntax\n"
     ]
    }
   ],
   "source": [
    "test_table[]"
   ]
  },
  {
   "cell_type": "code",
   "execution_count": 37,
   "metadata": {},
   "outputs": [
    {
     "data": {
      "text/plain": [
       "<pandas.core.indexing._iLocIndexer at 0x17804eae0>"
      ]
     },
     "execution_count": 37,
     "metadata": {},
     "output_type": "execute_result"
    }
   ],
   "source": []
  },
  {
   "cell_type": "code",
   "execution_count": null,
   "metadata": {},
   "outputs": [],
   "source": [
    "if so.ao.mag=='default': \n",
    "    factor_0 = so.stel.factor_0 # if mag is same as one loaded, dont change spectral mag\n",
    "else: \n",
    "    # scale to find factor_0 for new mag\n",
    "    factor_0 = so.stel.factor_0 * 10**(0.4*so.ao.mag)\n",
    "if type(so.ao.ho_wfe_set) is str:\n",
    "    f = pd.read_csv(so.ao.ho_wfe_set,header=[0,1,2,3])[so.tel.seeing][so.tel.zenith]\n",
    "    so.ao.modes = f.columns\n",
    "    mags             = f['mag'].values.T[0]\n",
    "for i in range(len(f.columns[2:])):\n",
    "    wfes = f[f.columns[2:][i][0]].values.T[0]\n",
    "    ho_wfe_band= f.columns[2:][i][1]\n",
    "    ho_wfe_mag,x_test3,y_test3 = get_band_mag(so,'Johnson',ho_wfe_band,so.stel.factor_0)\n",
    "    f_howfe = interpolate.interp1d(mags,wfes, bounds_error=False,fill_value=10000)\n",
    "    ao_ho_wfe     = float(f_howfe(ho_wfe_mag))\n",
    "    strehl_ho = wfe_tools.calc_strehl(ao_ho_wfe,so.filt.center_wavelength)\n",
    "    ho_wfe.append(ao_ho_wfe)\n",
    "    ao_ho_wfe_band.append(ho_wfe_band)\n",
    "    ao_ho_wfe_mag.append(ho_wfe_mag)\n",
    "    sr_ho.append(strehl_ho)"
   ]
  }
 ],
 "metadata": {
  "kernelspec": {
   "display_name": "surf_caltech",
   "language": "python",
   "name": "python3"
  },
  "language_info": {
   "codemirror_mode": {
    "name": "ipython",
    "version": 3
   },
   "file_extension": ".py",
   "mimetype": "text/x-python",
   "name": "python",
   "nbconvert_exporter": "python",
   "pygments_lexer": "ipython3",
   "version": "3.9.12"
  },
  "orig_nbformat": 4
 },
 "nbformat": 4,
 "nbformat_minor": 2
}
