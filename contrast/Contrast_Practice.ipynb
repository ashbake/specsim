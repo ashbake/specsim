{
 "cells": [
  {
   "cell_type": "code",
   "execution_count": 1,
   "metadata": {},
   "outputs": [],
   "source": [
    "import astropy.io.fits as fits\n",
    "import numpy as np\n",
    "import os, sys"
   ]
  },
  {
   "cell_type": "code",
   "execution_count": 80,
   "metadata": {},
   "outputs": [
    {
     "data": {
      "text/plain": [
       "[<astropy.io.fits.hdu.image.PrimaryHDU object at 0x000001900E4ACE50>]"
      ]
     },
     "execution_count": 80,
     "metadata": {},
     "output_type": "execute_result"
    }
   ],
   "source": [
    "fits_file = \"C:/Users/Willi/Downloads/RemoteAstrophotography-com-NGC2070-narrowband/Tarantula Nebula-oiii.fit\"\n",
    "fits.open(fits_file)"
   ]
  },
  {
   "cell_type": "code",
   "execution_count": 81,
   "metadata": {},
   "outputs": [
    {
     "name": "stdout",
     "output_type": "stream",
     "text": [
      "Filename: C:/Users/Willi/Downloads/RemoteAstrophotography-com-NGC2070-narrowband/Tarantula Nebula-oiii.fit\n",
      "No.    Name      Ver    Type      Cards   Dimensions   Format\n",
      "  0  PRIMARY       1 PrimaryHDU     113   (3056, 3056)   float32   \n"
     ]
    }
   ],
   "source": [
    "with fits.open(fits_file) as hdul:\n",
    "    hdul.info()\n",
    "    data = hdul[0].data"
   ]
  },
  {
   "cell_type": "code",
   "execution_count": 27,
   "metadata": {},
   "outputs": [
    {
     "name": "stdout",
     "output_type": "stream",
     "text": [
      "(3056, 3056)\n"
     ]
    }
   ],
   "source": [
    "print(data.shape) # dimensions of the image\n",
    "height, width = data.shape"
   ]
  },
  {
   "cell_type": "code",
   "execution_count": 28,
   "metadata": {},
   "outputs": [
    {
     "name": "stdout",
     "output_type": "stream",
     "text": [
      "1528 1528\n"
     ]
    }
   ],
   "source": [
    "x_center = width // 2\n",
    "y_center = height //2\n",
    "print(x_center, y_center)"
   ]
  },
  {
   "cell_type": "code",
   "execution_count": 29,
   "metadata": {},
   "outputs": [
    {
     "name": "stdout",
     "output_type": "stream",
     "text": [
      "4216.541\n"
     ]
    }
   ],
   "source": [
    "pixel_value = data[1529, 1529]\n",
    "print(pixel_value)"
   ]
  },
  {
   "cell_type": "code",
   "execution_count": 8,
   "metadata": {},
   "outputs": [
    {
     "name": "stdout",
     "output_type": "stream",
     "text": [
      "117.57136\n"
     ]
    }
   ],
   "source": [
    "# Get the median:\n",
    "image = fits.getdata(fits_file)\n",
    "median = np.median(image)\n",
    "print(median)"
   ]
  },
  {
   "cell_type": "code",
   "execution_count": 68,
   "metadata": {},
   "outputs": [
    {
     "name": "stdout",
     "output_type": "stream",
     "text": [
      "[   0    1    2 ... 3054 3055 3056]\n"
     ]
    }
   ],
   "source": [
    "# Define the radius from the center of the image to the edge\n",
    "radius = np.arange(0, width+1, 1)\n",
    "print(radius)"
   ]
  },
  {
   "cell_type": "code",
   "execution_count": null,
   "metadata": {},
   "outputs": [],
   "source": [
    "ys, xs, = np.indices(image.shape)\n",
    "r1 = np.sqrt((ys-y_center)**2+(xs-x_center)**2)"
   ]
  },
  {
   "cell_type": "code",
   "execution_count": 73,
   "metadata": {},
   "outputs": [
    {
     "name": "stdout",
     "output_type": "stream",
     "text": [
      "[[1. 2.]\n",
      " [0. 0.]\n",
      " [0. 0.]\n",
      " [0. 0.]\n",
      " [0. 0.]\n",
      " [0. 0.]\n",
      " [0. 0.]\n",
      " [0. 0.]\n",
      " [0. 0.]\n",
      " [0. 0.]]\n"
     ]
    }
   ],
   "source": [
    "test = np.zeros((10, 2))\n",
    "test[0] = [1, 2]\n",
    "print(test)"
   ]
  },
  {
   "cell_type": "code",
   "execution_count": 83,
   "metadata": {},
   "outputs": [
    {
     "ename": "IndexError",
     "evalue": "index 3056 is out of bounds for axis 1 with size 3056",
     "output_type": "error",
     "traceback": [
      "\u001b[1;31m---------------------------------------------------------------------------\u001b[0m",
      "\u001b[1;31mIndexError\u001b[0m                                Traceback (most recent call last)",
      "Input \u001b[1;32mIn [83]\u001b[0m, in \u001b[0;36m<cell line: 5>\u001b[1;34m()\u001b[0m\n\u001b[0;32m     12\u001b[0m \u001b[38;5;66;03m# indices.append(point)\u001b[39;00m\n\u001b[0;32m     13\u001b[0m indices[i] \u001b[38;5;241m=\u001b[39m [y, x]\n\u001b[1;32m---> 14\u001b[0m pixel_value \u001b[38;5;241m=\u001b[39m \u001b[43mdata\u001b[49m\u001b[43m[\u001b[49m\u001b[38;5;28;43mint\u001b[39;49m\u001b[43m(\u001b[49m\u001b[43my\u001b[49m\u001b[43m)\u001b[49m\u001b[43m,\u001b[49m\u001b[43m \u001b[49m\u001b[38;5;28;43mint\u001b[39;49m\u001b[43m(\u001b[49m\u001b[43mx\u001b[49m\u001b[43m)\u001b[49m\u001b[43m]\u001b[49m\n\u001b[0;32m     15\u001b[0m pixel_values\u001b[38;5;241m.\u001b[39mappend(pixel_value)\n\u001b[0;32m     16\u001b[0m mean_pixel_value \u001b[38;5;241m=\u001b[39m np\u001b[38;5;241m.\u001b[39mmean(pixel_values)\n",
      "\u001b[1;31mIndexError\u001b[0m: index 3056 is out of bounds for axis 1 with size 3056"
     ]
    }
   ],
   "source": [
    "theta = np.linspace(0, 2*np.pi, 100)\n",
    "indices = np.zeros((theta.size, 2))\n",
    "overall = np.zeros((len(radius), 2)) # 2D array with the radius and average pixel value\n",
    "pixel_values = []\n",
    "for j in range(len(radius)):\n",
    "    r = radius[j]\n",
    "\n",
    "    for i in range(theta.size):\n",
    "        x = x_center + r*np.cos(theta[i])\n",
    "        y = y_center + r*np.sin(theta[i])\n",
    "        point = [y, x]\n",
    "        # indices.append(point)\n",
    "        indices[i] = [y, x]\n",
    "        pixel_value = data[int(y), int(x)]\n",
    "        pixel_values.append(pixel_value)\n",
    "        mean_pixel_value = np.mean(pixel_values)\n",
    "\n",
    "    overall[j] = [r, mean_pixel_value]\n",
    "\n",
    "print(overall)"
   ]
  },
  {
   "cell_type": "code",
   "execution_count": 78,
   "metadata": {},
   "outputs": [
    {
     "name": "stdout",
     "output_type": "stream",
     "text": [
      "[10. 10. 10. 10. 10. 10. 10. 10. 10. 10. 10. 10. 10. 10. 10. 10. 10. 10.\n",
      " 10. 10. 10. 10. 10. 10. 10. 10. 10. 10. 10. 10. 10. 10. 10. 10. 10. 10.\n",
      " 10. 10. 10. 10. 10. 10. 10. 10. 10. 10. 10. 10. 10. 10. 10. 10. 10. 10.\n",
      " 10. 10. 10. 10. 10. 10. 10. 10. 10. 10. 10. 10. 10. 10. 10. 10. 10. 10.\n",
      " 10. 10. 10. 10. 10. 10. 10. 10. 10. 10. 10. 10. 10. 10. 10. 10. 10. 10.\n",
      " 10. 10. 10. 10. 10. 10. 10. 10. 10. 10.]\n",
      "1518.0012587232613\n"
     ]
    }
   ],
   "source": [
    "print(np.sqrt((indices[:,0]-x_center)**2+(indices[:,1]-y_center)**2))\n",
    "print(min(indices[:,0]))"
   ]
  },
  {
   "cell_type": "code",
   "execution_count": null,
   "metadata": {},
   "outputs": [],
   "source": [
    "# Find the intensity at a given radius from the center of the image\n",
    "# Find a way to calculate radius all the way out to the corners, and exclude points that would be outside the edge"
   ]
  },
  {
   "cell_type": "code",
   "execution_count": null,
   "metadata": {},
   "outputs": [],
   "source": [
    "hdul.close() # cldse the file"
   ]
  },
  {
   "cell_type": "code",
   "execution_count": null,
   "metadata": {},
   "outputs": [],
   "source": [
    "def radial_profile(data, center):\n",
    "    y, x = np.indices((data.shape))\n",
    "    r = np.sqrt((x - center[0])**2 + (y - center[1])**2)\n",
    "    r = r.astype(np.int)\n",
    "\n",
    "    tbin = np.bincount(r.ravel(), data.ravel())\n",
    "    nr = np.bincount(r.ravel())\n",
    "    radialprofile = tbin / nr\n",
    "    return radialprofile"
   ]
  },
  {
   "cell_type": "code",
   "execution_count": 86,
   "metadata": {},
   "outputs": [
    {
     "name": "stdout",
     "output_type": "stream",
     "text": [
      "\u001b[1;31mDocstring:\u001b[0m\n",
      "Scalar method identical to the corresponding array attribute.\n",
      "\n",
      "Please see `ndarray.ravel`.\n",
      "\u001b[1;31mType:\u001b[0m      builtin_function_or_method\n"
     ]
    }
   ],
   "source": [
    "r.ravel?"
   ]
  },
  {
   "cell_type": "code",
   "execution_count": null,
   "metadata": {},
   "outputs": [],
   "source": []
  }
 ],
 "metadata": {
  "kernelspec": {
   "display_name": "SpecsimV2",
   "language": "python",
   "name": "python3"
  },
  "language_info": {
   "codemirror_mode": {
    "name": "ipython",
    "version": 3
   },
   "file_extension": ".py",
   "mimetype": "text/x-python",
   "name": "python",
   "nbconvert_exporter": "python",
   "pygments_lexer": "ipython3",
   "version": "3.9.12"
  }
 },
 "nbformat": 4,
 "nbformat_minor": 2
}
