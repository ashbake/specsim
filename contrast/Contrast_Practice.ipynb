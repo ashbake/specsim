{
 "cells": [
  {
   "cell_type": "code",
   "execution_count": 1,
   "metadata": {},
   "outputs": [],
   "source": [
    "import astropy.io.fits as fits\n",
    "import numpy as np\n",
    "import os, sys"
   ]
  },
  {
   "cell_type": "code",
   "execution_count": 80,
   "metadata": {},
   "outputs": [
    {
     "data": {
      "text/plain": [
       "[<astropy.io.fits.hdu.image.PrimaryHDU object at 0x000001900E4ACE50>]"
      ]
     },
     "execution_count": 80,
     "metadata": {},
     "output_type": "execute_result"
    }
   ],
   "source": [
    "fits_file = \"C:/Users/Willi/Downloads/RemoteAstrophotography-com-NGC2070-narrowband/Tarantula Nebula-oiii.fit\"\n",
    "fits.open(fits_file)"
   ]
  },
  {
   "cell_type": "code",
   "execution_count": 81,
   "metadata": {},
   "outputs": [
    {
     "name": "stdout",
     "output_type": "stream",
     "text": [
      "Filename: C:/Users/Willi/Downloads/RemoteAstrophotography-com-NGC2070-narrowband/Tarantula Nebula-oiii.fit\n",
      "No.    Name      Ver    Type      Cards   Dimensions   Format\n",
      "  0  PRIMARY       1 PrimaryHDU     113   (3056, 3056)   float32   \n"
     ]
    }
   ],
   "source": [
    "with fits.open(fits_file) as hdul:\n",
    "    hdul.info()\n",
    "    data = hdul[0].data"
   ]
  },
  {
   "cell_type": "code",
   "execution_count": 27,
   "metadata": {},
   "outputs": [
    {
     "name": "stdout",
     "output_type": "stream",
     "text": [
      "(3056, 3056)\n"
     ]
    }
   ],
   "source": [
    "print(data.shape) # dimensions of the image\n",
    "height, width = data.shape"
   ]
  },
  {
   "cell_type": "code",
   "execution_count": 28,
   "metadata": {},
   "outputs": [
    {
     "name": "stdout",
     "output_type": "stream",
     "text": [
      "1528 1528\n"
     ]
    }
   ],
   "source": [
    "x_center = width // 2\n",
    "y_center = height //2\n",
    "print(x_center, y_center)"
   ]
  },
  {
   "cell_type": "code",
   "execution_count": 29,
   "metadata": {},
   "outputs": [
    {
     "name": "stdout",
     "output_type": "stream",
     "text": [
      "4216.541\n"
     ]
    }
   ],
   "source": [
    "pixel_value = data[1529, 1529]\n",
    "print(pixel_value)"
   ]
  },
  {
   "cell_type": "code",
   "execution_count": 8,
   "metadata": {},
   "outputs": [
    {
     "name": "stdout",
     "output_type": "stream",
     "text": [
      "117.57136\n"
     ]
    }
   ],
   "source": [
    "# Get the median:\n",
    "image = fits.getdata(fits_file)\n",
    "median = np.median(image)\n",
    "print(median)"
   ]
  },
  {
   "cell_type": "code",
   "execution_count": 68,
   "metadata": {},
   "outputs": [
    {
     "name": "stdout",
     "output_type": "stream",
     "text": [
      "[   0    1    2 ... 3054 3055 3056]\n"
     ]
    }
   ],
   "source": [
    "# Define the radius from the center of the image to the edge\n",
    "radius = np.arange(0, width+1, 1)\n",
    "print(radius)"
   ]
  },
  {
   "cell_type": "code",
   "execution_count": null,
   "metadata": {},
   "outputs": [],
   "source": [
    "ys, xs, = np.indices(image.shape)\n",
    "r1 = np.sqrt((ys-y_center)**2+(xs-x_center)**2)"
   ]
  },
  {
   "cell_type": "code",
   "execution_count": 73,
   "metadata": {},
   "outputs": [
    {
     "name": "stdout",
     "output_type": "stream",
     "text": [
      "[[1. 2.]\n",
      " [0. 0.]\n",
      " [0. 0.]\n",
      " [0. 0.]\n",
      " [0. 0.]\n",
      " [0. 0.]\n",
      " [0. 0.]\n",
      " [0. 0.]\n",
      " [0. 0.]\n",
      " [0. 0.]]\n"
     ]
    }
   ],
   "source": [
    "test = np.zeros((10, 2))\n",
    "test[0] = [1, 2]\n",
    "print(test)"
   ]
  },
  {
   "cell_type": "code",
   "execution_count": 83,
   "metadata": {},
   "outputs": [
    {
     "ename": "IndexError",
     "evalue": "index 3056 is out of bounds for axis 1 with size 3056",
     "output_type": "error",
     "traceback": [
      "\u001b[1;31m---------------------------------------------------------------------------\u001b[0m",
      "\u001b[1;31mIndexError\u001b[0m                                Traceback (most recent call last)",
      "Input \u001b[1;32mIn [83]\u001b[0m, in \u001b[0;36m<cell line: 5>\u001b[1;34m()\u001b[0m\n\u001b[0;32m     12\u001b[0m \u001b[38;5;66;03m# indices.append(point)\u001b[39;00m\n\u001b[0;32m     13\u001b[0m indices[i] \u001b[38;5;241m=\u001b[39m [y, x]\n\u001b[1;32m---> 14\u001b[0m pixel_value \u001b[38;5;241m=\u001b[39m \u001b[43mdata\u001b[49m\u001b[43m[\u001b[49m\u001b[38;5;28;43mint\u001b[39;49m\u001b[43m(\u001b[49m\u001b[43my\u001b[49m\u001b[43m)\u001b[49m\u001b[43m,\u001b[49m\u001b[43m \u001b[49m\u001b[38;5;28;43mint\u001b[39;49m\u001b[43m(\u001b[49m\u001b[43mx\u001b[49m\u001b[43m)\u001b[49m\u001b[43m]\u001b[49m\n\u001b[0;32m     15\u001b[0m pixel_values\u001b[38;5;241m.\u001b[39mappend(pixel_value)\n\u001b[0;32m     16\u001b[0m mean_pixel_value \u001b[38;5;241m=\u001b[39m np\u001b[38;5;241m.\u001b[39mmean(pixel_values)\n",
      "\u001b[1;31mIndexError\u001b[0m: index 3056 is out of bounds for axis 1 with size 3056"
     ]
    }
   ],
   "source": [
    "theta = np.linspace(0, 2*np.pi, 100)\n",
    "indices = np.zeros((theta.size, 2))\n",
    "overall = np.zeros((len(radius), 2)) # 2D array with the radius and average pixel value\n",
    "pixel_values = []\n",
    "for j in range(len(radius)):\n",
    "    r = radius[j]\n",
    "\n",
    "    for i in range(theta.size):\n",
    "        x = x_center + r*np.cos(theta[i])\n",
    "        y = y_center + r*np.sin(theta[i])\n",
    "        point = [y, x]\n",
    "        # indices.append(point)\n",
    "        indices[i] = [y, x]\n",
    "        pixel_value = data[int(y), int(x)]\n",
    "        pixel_values.append(pixel_value)\n",
    "        mean_pixel_value = np.mean(pixel_values)\n",
    "\n",
    "    overall[j] = [r, mean_pixel_value]\n",
    "\n",
    "print(overall)"
   ]
  },
  {
   "cell_type": "code",
   "execution_count": 78,
   "metadata": {},
   "outputs": [
    {
     "name": "stdout",
     "output_type": "stream",
     "text": [
      "[10. 10. 10. 10. 10. 10. 10. 10. 10. 10. 10. 10. 10. 10. 10. 10. 10. 10.\n",
      " 10. 10. 10. 10. 10. 10. 10. 10. 10. 10. 10. 10. 10. 10. 10. 10. 10. 10.\n",
      " 10. 10. 10. 10. 10. 10. 10. 10. 10. 10. 10. 10. 10. 10. 10. 10. 10. 10.\n",
      " 10. 10. 10. 10. 10. 10. 10. 10. 10. 10. 10. 10. 10. 10. 10. 10. 10. 10.\n",
      " 10. 10. 10. 10. 10. 10. 10. 10. 10. 10. 10. 10. 10. 10. 10. 10. 10. 10.\n",
      " 10. 10. 10. 10. 10. 10. 10. 10. 10. 10.]\n",
      "1518.0012587232613\n"
     ]
    }
   ],
   "source": [
    "print(np.sqrt((indices[:,0]-x_center)**2+(indices[:,1]-y_center)**2))\n",
    "print(min(indices[:,0]))"
   ]
  },
  {
   "cell_type": "code",
   "execution_count": null,
   "metadata": {},
   "outputs": [],
   "source": [
    "# Find the intensity at a given radius from the center of the image\n",
    "# Find a way to calculate radius all the way out to the corners, and exclude points that would be outside the edge"
   ]
  },
  {
   "cell_type": "code",
   "execution_count": null,
   "metadata": {},
   "outputs": [],
   "source": [
    "hdul.close() # cldse the file"
   ]
  },
  {
   "cell_type": "markdown",
   "metadata": {},
   "source": [
    "Plotting script from Dimitri"
   ]
  },
  {
   "cell_type": "code",
   "execution_count": null,
   "metadata": {},
   "outputs": [],
   "source": [
    "def radial_profile(data, center):\n",
    "    y, x = np.indices((data.shape))\n",
    "    r = np.sqrt((x - center[0])**2 + (y - center[1])**2)\n",
    "    r = r.astype(np.int)\n",
    "\n",
    "    tbin = np.bincount(r.ravel(), data.ravel())\n",
    "    nr = np.bincount(r.ravel())\n",
    "    radialprofile = tbin / nr\n",
    "    return radialprofile"
   ]
  },
  {
   "cell_type": "code",
   "execution_count": 87,
   "metadata": {},
   "outputs": [
    {
     "name": "stdout",
     "output_type": "stream",
     "text": [
      "\u001b[1;31mDocstring:\u001b[0m\n",
      "bincount(x, weights=None, minlength=0)\n",
      "\n",
      "Count number of occurrences of each value in array of non-negative ints.\n",
      "\n",
      "The number of bins (of size 1) is one larger than the largest value in\n",
      "`x`. If `minlength` is specified, there will be at least this number\n",
      "of bins in the output array (though it will be longer if necessary,\n",
      "depending on the contents of `x`).\n",
      "Each bin gives the number of occurrences of its index value in `x`.\n",
      "If `weights` is specified the input array is weighted by it, i.e. if a\n",
      "value ``n`` is found at position ``i``, ``out[n] += weight[i]`` instead\n",
      "of ``out[n] += 1``.\n",
      "\n",
      "Parameters\n",
      "----------\n",
      "x : array_like, 1 dimension, nonnegative ints\n",
      "    Input array.\n",
      "weights : array_like, optional\n",
      "    Weights, array of the same shape as `x`.\n",
      "minlength : int, optional\n",
      "    A minimum number of bins for the output array.\n",
      "\n",
      "    .. versionadded:: 1.6.0\n",
      "\n",
      "Returns\n",
      "-------\n",
      "out : ndarray of ints\n",
      "    The result of binning the input array.\n",
      "    The length of `out` is equal to ``np.amax(x)+1``.\n",
      "\n",
      "Raises\n",
      "------\n",
      "ValueError\n",
      "    If the input is not 1-dimensional, or contains elements with negative\n",
      "    values, or if `minlength` is negative.\n",
      "TypeError\n",
      "    If the type of the input is float or complex.\n",
      "\n",
      "See Also\n",
      "--------\n",
      "histogram, digitize, unique\n",
      "\n",
      "Examples\n",
      "--------\n",
      ">>> np.bincount(np.arange(5))\n",
      "array([1, 1, 1, 1, 1])\n",
      ">>> np.bincount(np.array([0, 1, 1, 3, 2, 1, 7]))\n",
      "array([1, 3, 1, 1, 0, 0, 0, 1])\n",
      "\n",
      ">>> x = np.array([0, 1, 1, 3, 2, 1, 7, 23])\n",
      ">>> np.bincount(x).size == np.amax(x)+1\n",
      "True\n",
      "\n",
      "The input array needs to be of integer dtype, otherwise a\n",
      "TypeError is raised:\n",
      "\n",
      ">>> np.bincount(np.arange(5, dtype=float))\n",
      "Traceback (most recent call last):\n",
      "  ...\n",
      "TypeError: Cannot cast array data from dtype('float64') to dtype('int64')\n",
      "according to the rule 'safe'\n",
      "\n",
      "A possible use of ``bincount`` is to perform sums over\n",
      "variable-size chunks of an array, using the ``weights`` keyword.\n",
      "\n",
      ">>> w = np.array([0.3, 0.5, 0.2, 0.7, 1., -0.6]) # weights\n",
      ">>> x = np.array([0, 1, 1, 2, 2, 2])\n",
      ">>> np.bincount(x,  weights=w)\n",
      "array([ 0.3,  0.7,  1.1])\n",
      "\u001b[1;31mType:\u001b[0m      function\n"
     ]
    }
   ],
   "source": [
    "np.bincount?"
   ]
  },
  {
   "cell_type": "code",
   "execution_count": 1,
   "metadata": {},
   "outputs": [],
   "source": [
    "import os\n",
    "import numpy as np\n",
    "from astropy.io import fits\n",
    "import matplotlib.pyplot as plt\n",
    "from scipy.stats import binned_statistic"
   ]
  },
  {
   "cell_type": "code",
   "execution_count": 2,
   "metadata": {},
   "outputs": [],
   "source": [
    "def radial_profile(data, center):\n",
    "    \"\"\" Calculate the radial profile of a 2D array. \"\"\"\n",
    "    y, x = np.indices((data.shape))\n",
    "    r = np.sqrt((x - center[0])**2 + (y - center[1])**2)\n",
    "\n",
    "    # Define the desired thickness\n",
    "    thickness = 4  # thickness in pixels\n",
    "    \n",
    "    # Bin the pixel values by their distances\n",
    "    r_flat = r.ravel()\n",
    "    image_flat = data.ravel()\n",
    "    # Define bin edges with the desired thickness\n",
    "    bin_edges = np.arange(0, r.max() + thickness, thickness)\n",
    "\n",
    "    # Calculate the mean intensity within each bin\n",
    "    radial_profile, bin_edges, binnumber = binned_statistic(r_flat, image_flat, statistic='mean', bins=bin_edges)\n",
    "\n",
    "    # Calculate bin centers\n",
    "    bin_centers = (bin_edges[:-1] + bin_edges[1:]) / 2\n",
    "    \n",
    "    return radial_profile, bin_centers\n"
   ]
  },
  {
   "cell_type": "code",
   "execution_count": 3,
   "metadata": {},
   "outputs": [],
   "source": [
    "def process_fits_file(file_path):\n",
    "    \"\"\" Process a single FITS file and return the radial profiles. \"\"\"\n",
    "    with fits.open(file_path) as hdul:  \n",
    "        profiles = {}\n",
    "        bin_centers = {}\n",
    "        dp = {}\n",
    "        for i in range(0, len(hdul)):\n",
    "            dp [f'extension_{i}'] = hdul[i].header['DP']\n",
    "            data = hdul[i].data\n",
    "            center = (data.shape[1] // 2, data.shape[0] // 2)\n",
    "            profiles[f'extension_{i}'], bin_centers[f'extension_{i}'] = radial_profile(data, center)\n",
    "    return profiles, bin_centers, dp"
   ]
  },
  {
   "cell_type": "code",
   "execution_count": 4,
   "metadata": {},
   "outputs": [],
   "source": [
    "def process_directory(directory):\n",
    "    \"\"\" Process all FITS files in the given directory and subdirectories. \"\"\"\n",
    "    results = {}\n",
    "    for root, _, files in os.walk(directory):\n",
    "        for file in files:\n",
    "            if file.endswith('.fits'):\n",
    "                file_path = os.path.join(root, file)\n",
    "                profiles, bin_centers, dp = process_fits_file(file_path)\n",
    "                rel_dir = os.path.relpath(root, directory)\n",
    "                if rel_dir not in results:\n",
    "                    results[rel_dir] = []\n",
    "                results[rel_dir].append((file, profiles, bin_centers, dp))\n",
    "    return results"
   ]
  },
  {
   "cell_type": "code",
   "execution_count": 5,
   "metadata": {},
   "outputs": [],
   "source": [
    "def plot_radial_profiles(results):\n",
    "    \"\"\" Plot the radial profiles from the results dictionary. \"\"\"\n",
    "    for rel_dir, files_data in results.items():\n",
    "        for file, profiles, bin_centers, dp in files_data:\n",
    "            plt.figure(figsize=(10, 6))\n",
    "            for ext, profile in profiles.items():\n",
    "                radii = bin_centers[ext] * dp[ext]  # Convert pixel radius to arcseconds\n",
    "                plt.loglog(radii, profile, label=ext)\n",
    "            plt.xlabel('Radius (arcseconds)')\n",
    "            plt.ylabel('Intensity')\n",
    "            plt.title(f'Radial Profile for {file}')\n",
    "            plt.legend()\n",
    "            plt.grid(True)\n",
    "            plt.show()\n",
    "\n",
    "# Example usage\n",
    "current_directory = os.getcwd()\n",
    "base_directory = current_directory\n",
    "results = process_directory(base_directory)\n",
    "plot_radial_profiles(results)"
   ]
  },
  {
   "cell_type": "code",
   "execution_count": 6,
   "metadata": {},
   "outputs": [],
   "source": [
    "def plot_radial_profiles(results):\n",
    "    \"\"\" Plot the radial profiles from the results dictionary. \"\"\"\n",
    "    for rel_dir, files_data in results.items():\n",
    "        for file, profiles, dp in files_data:\n",
    "            plt.figure(figsize=(10, 6))\n",
    "            for ext, profile in profiles.items():\n",
    "                radii = np.arange(len(profile)) * dp[ext]  # Convert pixel radius to arcseconds\n",
    "                plt.loglog(radii, profile, label=ext)\n",
    "            plt.xlabel('Radius (arcseconds)')\n",
    "            plt.ylabel('Intensity')\n",
    "            plt.title(f'Radial Profile for {file}')\n",
    "            plt.legend()\n",
    "            plt.grid(True)\n",
    "            plt.show()\n",
    "plot_radial_profiles(results)"
   ]
  },
  {
   "cell_type": "code",
   "execution_count": null,
   "metadata": {},
   "outputs": [],
   "source": []
  }
 ],
 "metadata": {
  "kernelspec": {
   "display_name": "SpecsimV2",
   "language": "python",
   "name": "python3"
  },
  "language_info": {
   "codemirror_mode": {
    "name": "ipython",
    "version": 3
   },
   "file_extension": ".py",
   "mimetype": "text/x-python",
   "name": "python",
   "nbconvert_exporter": "python",
   "pygments_lexer": "ipython3",
   "version": "3.9.12"
  }
 },
 "nbformat": 4,
 "nbformat_minor": 2
}
