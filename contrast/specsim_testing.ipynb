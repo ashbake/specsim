{
 "cells": [
  {
   "cell_type": "code",
   "execution_count": 16,
   "metadata": {},
   "outputs": [],
   "source": [
    "import numpy as np\n",
    "import os,sys"
   ]
  },
  {
   "cell_type": "code",
   "execution_count": 2,
   "metadata": {},
   "outputs": [
    {
     "name": "stdout",
     "output_type": "stream",
     "text": [
      "3.9.12 (main, Apr  4 2022, 05:22:27) [MSC v.1916 64 bit (AMD64)]\n"
     ]
    }
   ],
   "source": [
    "print(sys.version)"
   ]
  },
  {
   "cell_type": "code",
   "execution_count": 3,
   "metadata": {},
   "outputs": [
    {
     "name": "stdout",
     "output_type": "stream",
     "text": [
      "c:\\Users\\Willi\\anaconda3\\envs\\SpecsimV2\\python.exe\n"
     ]
    }
   ],
   "source": [
    "print(sys.executable)"
   ]
  },
  {
   "cell_type": "code",
   "execution_count": 10,
   "metadata": {},
   "outputs": [
    {
     "name": "stdout",
     "output_type": "stream",
     "text": [
      "Current working directory is C:\\Users\\Willi\\Documents\\GitHub\n"
     ]
    }
   ],
   "source": [
    "sys.path.append('../')\n",
    "os.chdir('../')\n",
    "print('Current working directory is', os.getcwd())"
   ]
  },
  {
   "cell_type": "code",
   "execution_count": 25,
   "metadata": {},
   "outputs": [
    {
     "name": "stdout",
     "output_type": "stream",
     "text": [
      "Current working directory is c:\\Users\\Willi\\Documents\\GitHub\\specsim\n"
     ]
    }
   ],
   "source": [
    "# sys.path.insert(0, '/path/to/specsim')\n",
    "\n",
    "print('Current working directory is', os.getcwd())"
   ]
  },
  {
   "cell_type": "code",
   "execution_count": 12,
   "metadata": {},
   "outputs": [],
   "source": [
    "os.chdir('C:/Users/Willi/Documents/GitHub/specsim/')"
   ]
  },
  {
   "cell_type": "code",
   "execution_count": 1,
   "metadata": {},
   "outputs": [
    {
     "name": "stdout",
     "output_type": "stream",
     "text": [
      "Current working directory is c:\\Users\\Willi\\Documents\\GitHub\\specsim\n"
     ]
    }
   ],
   "source": [
    "# import some general packages\n",
    "import sys,os\n",
    "import numpy as np\n",
    "import matplotlib.pylab as plt\n",
    "from scipy import interpolate\n",
    "from matplotlib.colors import LogNorm\n",
    "from datetime import date\n",
    "\n",
    "# Load some stuff from specsim\n",
    "# Run in main folder specsim/\n",
    "os.chdir('../') # if running in examples/ folder, need to be in main folder\n",
    "print('Current working directory is', os.getcwd()) # should be /GitHub/specsim/\n",
    "from specsim import objects, load_inputs, functions, plot_tools, obs_tools"
   ]
  },
  {
   "cell_type": "code",
   "execution_count": 2,
   "metadata": {},
   "outputs": [
    {
     "name": "stdout",
     "output_type": "stream",
     "text": [
      "Does the config file exist? True\n"
     ]
    }
   ],
   "source": [
    "# config_path = './specsim/configs/modhis_snr.cfg'\n",
    "config_path = './configs/melby_test_config.cfg'\n",
    "print(\"Does the config file exist?\", os.path.exists(config_path)) # make sure the current working directory is in GitHub (specsim parent folder)"
   ]
  },
  {
   "cell_type": "code",
   "execution_count": 6,
   "metadata": {},
   "outputs": [
    {
     "name": "stdout",
     "output_type": "stream",
     "text": [
      "------FILLING OBJECT--------\n",
      "Teff set to 200.0\n",
      "H band mag set to 18.0\n",
      "Auto AO Mode\n",
      "AO mag is 17.1 in R band for defaultK AO star (H=default)\n",
      "AO mode chosen: LGS_ON\n",
      "HO WFE is 150\n",
      "tt dynamic is 2.16\n",
      "Nframes set to 1\n",
      "Texp per frame set to 900.0\n"
     ]
    }
   ],
   "source": [
    "# configfile = './specsim/configs/modhis_snr.cfg' # define our config file name and path\n",
    "configfile = './configs/melby_test_config.cfg'\n",
    "so    = objects.load_object(configfile)  # Load the contents of the config file into the so \"storage object\"\n",
    "cload = load_inputs.fill_data(so)        # Initiate the fill_data class which runs an observation and stores the results in so"
   ]
  },
  {
   "cell_type": "code",
   "execution_count": 11,
   "metadata": {},
   "outputs": [],
   "source": [
    "import zipfile\n",
    "import subprocess"
   ]
  },
  {
   "cell_type": "code",
   "execution_count": 5,
   "metadata": {},
   "outputs": [],
   "source": [
    "\n",
    "# Define the directory containing the zip subfolders\n",
    "base_directory = \"C:/Users/Willi/Documents/Research/Stellar_Data/Profile/\"\n",
    "\n",
    "# Walk through all files and directories within the base directory\n",
    "# for root, dirs, files in os.walk(base_directory):\n",
    "#     for file in files:\n",
    "#         if file.endswith(\".zip\"):\n",
    "#             file_path = os.path.join(root, file)\n",
    "#             # Define the directory to extract to (same as zip file's directory)\n",
    "#             extract_to = os.path.splitext(file_path)[0]\n",
    "#             # Create the extraction directory if it doesn't exist\n",
    "#             os.makedirs(extract_to, exist_ok=True)\n",
    "#             # Extract the zip file\n",
    "#             with zipfile.ZipFile(file_path, 'r') as zip_ref:\n",
    "#                 zip_ref.extractall(extract_to)\n",
    "#             print(f\"Extracted {file_path} to {extract_to}\")"
   ]
  },
  {
   "cell_type": "code",
   "execution_count": 12,
   "metadata": {},
   "outputs": [],
   "source": [
    "def extract_cmp_file(file_path, extract_to):\n",
    "    # Example command for a hypothetical tool\n",
    "    command = f\"cmp_tool -extract {file_path} -output {extract_to}\"\n",
    "    subprocess.run(command, shell=True)"
   ]
  },
  {
   "cell_type": "code",
   "execution_count": 15,
   "metadata": {},
   "outputs": [],
   "source": [
    "# Define the directory containing the .cmp subfolders\n",
    "base_directory = \"C:/Users/Willi/Documents/Research/Stellar_Data/profile/\"\n",
    "\n",
    "# Walk through all files and directories within the base directory\n",
    "for root, dirs, files in os.walk(base_directory):\n",
    "    for file in files:\n",
    "        if file.endswith(\".cmp\"):\n",
    "            file_path = os.path.join(root, file)\n",
    "            # Define the directory to extract to (same as cmp file's directory)\n",
    "            extract_to = os.path.splitext(file_path)[0]\n",
    "            # Create the extraction directory if it doesn't exist\n",
    "            os.makedirs(extract_to, exist_ok=True)\n",
    "            # Extract the cmp file\n",
    "            extract_cmp_file(file_path, extract_to)\n",
    "            print(f\"Extracted {file_path} to {extract_to}\")"
   ]
  },
  {
   "cell_type": "code",
   "execution_count": 23,
   "metadata": {},
   "outputs": [
    {
     "name": "stdout",
     "output_type": "stream",
     "text": [
      "Peak wavelength in nm is: 9559.623948540328\n"
     ]
    }
   ],
   "source": [
    "# Calculate the wavelength of peak emission for a blackbody object at a given temperature (30C = 303.15K)\n",
    "b = 2.898e-3 # Wien's displacement constant in m*K\n",
    "T = 303.15 # Temperature in Kelvin\n",
    "peak_wavelength = b / T\n",
    "print(\"Peak wavelength in nm is:\", peak_wavelength*1e9)"
   ]
  },
  {
   "cell_type": "code",
   "execution_count": 24,
   "metadata": {},
   "outputs": [
    {
     "name": "stdout",
     "output_type": "stream",
     "text": [
      "Does the file exist? True\n"
     ]
    }
   ],
   "source": [
    "sonora_path = 'C:/Users/Willi/Documents/Research/Stellar_Data/sonora_folder/profile/t200g17nc_m0.0.cmp'\n",
    "print(\"Does the file exist?\", os.path.exists(config_path))"
   ]
  },
  {
   "cell_type": "code",
   "execution_count": 9,
   "metadata": {},
   "outputs": [],
   "source": [
    "sonora_path = 'C:\\\\Users\\\\Willi\\\\Documents\\\\GitHub\\\\specsim\\\\data\\\\stel\\\\sonora\\\\'\n",
    "# print(\"Does the file exist?\", os.path.exists(config_path))"
   ]
  },
  {
   "cell_type": "code",
   "execution_count": 11,
   "metadata": {},
   "outputs": [
    {
     "name": "stdout",
     "output_type": "stream",
     "text": [
      "Does the file exist? True\n"
     ]
    }
   ],
   "source": [
    "stel_file_name = 'sp_t200g10nc_m0.0'\n",
    "stel_file         = os.path.join(sonora_path, stel_file_name)\n",
    "print(\"Does the file exist?\", os.path.exists(stel_file))"
   ]
  },
  {
   "cell_type": "code",
   "execution_count": 9,
   "metadata": {},
   "outputs": [
    {
     "name": "stdout",
     "output_type": "stream",
     "text": [
      "Does the file exist? True\n",
      "C:/Users/Willi/Documents/GitHub/specsim/data/stel/sonora/sp_t200g10nc_m0.0\n"
     ]
    }
   ],
   "source": [
    "# sonora_file = 'C:/Users/Willi/Documents/GitHub/specsim/data/stel/sonora/sp_t200g10nc_m0.0'\n",
    "# sonora_path = 'C:\\\\Users\\\\Willi\\\\Documents\\\\GitHub\\\\specsim\\\\data\\\\stel\\\\sonora\\\\'\n",
    "sonora_path='C:/Users/Willi/Documents/GitHub/specsim/data/stel/sonora/'\n",
    "stel_file_name = 'sp_t%sg%snc_m0.0' %(200,10)\n",
    "stel_file         = os.path.join(sonora_path, stel_file_name)\n",
    "print(\"Does the file exist?\", os.path.exists(stel_file))\n",
    "print(stel_file)"
   ]
  },
  {
   "cell_type": "code",
   "execution_count": 10,
   "metadata": {},
   "outputs": [
    {
     "name": "stdout",
     "output_type": "stream",
     "text": [
      "Does the file exist? True\n"
     ]
    }
   ],
   "source": [
    "sonora_folder='C:/Users/Willi/Documents/GitHub/specsim/data/stel/sonora/'\n",
    "stel_file = sonora_folder + 'sp_t200g10nc_m0.0'\n",
    "print(\"Does the file exist?\", os.path.exists(stel_file))"
   ]
  },
  {
   "cell_type": "code",
   "execution_count": null,
   "metadata": {},
   "outputs": [],
   "source": []
  }
 ],
 "metadata": {
  "kernelspec": {
   "display_name": "Python 3",
   "language": "python",
   "name": "python3"
  },
  "language_info": {
   "codemirror_mode": {
    "name": "ipython",
    "version": 3
   },
   "file_extension": ".py",
   "mimetype": "text/x-python",
   "name": "python",
   "nbconvert_exporter": "python",
   "pygments_lexer": "ipython3",
   "version": "3.9.12"
  }
 },
 "nbformat": 4,
 "nbformat_minor": 2
}
