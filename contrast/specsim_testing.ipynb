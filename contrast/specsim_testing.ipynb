{
 "cells": [
  {
   "cell_type": "code",
   "execution_count": 1,
   "metadata": {},
   "outputs": [],
   "source": [
    "import numpy as np\n",
    "import os,sys"
   ]
  },
  {
   "cell_type": "code",
   "execution_count": 2,
   "metadata": {},
   "outputs": [
    {
     "name": "stdout",
     "output_type": "stream",
     "text": [
      "3.9.12 (main, Apr  4 2022, 05:22:27) [MSC v.1916 64 bit (AMD64)]\n"
     ]
    }
   ],
   "source": [
    "print(sys.version)"
   ]
  },
  {
   "cell_type": "code",
   "execution_count": 3,
   "metadata": {},
   "outputs": [
    {
     "name": "stdout",
     "output_type": "stream",
     "text": [
      "c:\\Users\\Willi\\anaconda3\\envs\\SpecsimV2\\python.exe\n"
     ]
    }
   ],
   "source": [
    "print(sys.executable)"
   ]
  },
  {
   "cell_type": "code",
   "execution_count": 10,
   "metadata": {},
   "outputs": [
    {
     "name": "stdout",
     "output_type": "stream",
     "text": [
      "Current working directory is C:\\Users\\Willi\\Documents\\GitHub\n"
     ]
    }
   ],
   "source": [
    "sys.path.append('../')\n",
    "os.chdir('../')\n",
    "print('Current working directory is', os.getcwd())"
   ]
  },
  {
   "cell_type": "code",
   "execution_count": 13,
   "metadata": {},
   "outputs": [
    {
     "name": "stdout",
     "output_type": "stream",
     "text": [
      "Current working directory is C:\\Users\\Willi\\Documents\\GitHub\\specsim\n"
     ]
    }
   ],
   "source": [
    "# sys.path.insert(0, '/path/to/specsim')\n",
    "\n",
    "print('Current working directory is', os.getcwd())"
   ]
  },
  {
   "cell_type": "code",
   "execution_count": 12,
   "metadata": {},
   "outputs": [],
   "source": [
    "os.chdir('C:/Users/Willi/Documents/GitHub/specsim/')"
   ]
  },
  {
   "cell_type": "code",
   "execution_count": 1,
   "metadata": {},
   "outputs": [
    {
     "name": "stdout",
     "output_type": "stream",
     "text": [
      "Current working directory is c:\\Users\\Willi\\Documents\\GitHub\\specsim\n"
     ]
    }
   ],
   "source": [
    "# import some general packages\n",
    "import sys,os\n",
    "import numpy as np\n",
    "import matplotlib.pylab as plt\n",
    "from scipy import interpolate\n",
    "from matplotlib.colors import LogNorm\n",
    "from datetime import date\n",
    "\n",
    "# Load some stuff from specsim\n",
    "# Run in main folder specsim/\n",
    "os.chdir('../') # if running in examples/ folder, need to be in main folder\n",
    "print('Current working directory is', os.getcwd()) # should be /GitHub/specsim/\n",
    "from specsim import objects, load_inputs, functions, plot_tools, obs_tools"
   ]
  },
  {
   "cell_type": "code",
   "execution_count": 2,
   "metadata": {},
   "outputs": [
    {
     "name": "stdout",
     "output_type": "stream",
     "text": [
      "Does the config file exist? True\n"
     ]
    }
   ],
   "source": [
    "# config_path = './specsim/configs/modhis_snr.cfg'\n",
    "config_path = './configs/melby_test_config.cfg'\n",
    "print(\"Does the config file exist?\", os.path.exists(config_path)) # make sure the current working directory is in GitHub (specsim parent folder)"
   ]
  },
  {
   "cell_type": "code",
   "execution_count": 3,
   "metadata": {},
   "outputs": [
    {
     "name": "stdout",
     "output_type": "stream",
     "text": [
      "------FILLING OBJECT--------\n",
      "Teff set to 200.0\n",
      "H band mag set to 18.0\n"
     ]
    },
    {
     "ename": "OSError",
     "evalue": "/Users/Willi/Documents/GitHub/specsim/data/stel/sonora/sp_t200g316nc_m0.0 not found.",
     "output_type": "error",
     "traceback": [
      "\u001b[1;31m---------------------------------------------------------------------------\u001b[0m",
      "\u001b[1;31mOSError\u001b[0m                                   Traceback (most recent call last)",
      "Input \u001b[1;32mIn [3]\u001b[0m, in \u001b[0;36m<cell line: 4>\u001b[1;34m()\u001b[0m\n\u001b[0;32m      2\u001b[0m configfile \u001b[38;5;241m=\u001b[39m \u001b[38;5;124m'\u001b[39m\u001b[38;5;124m./configs/melby_test_config.cfg\u001b[39m\u001b[38;5;124m'\u001b[39m\n\u001b[0;32m      3\u001b[0m so    \u001b[38;5;241m=\u001b[39m objects\u001b[38;5;241m.\u001b[39mload_object(configfile)  \u001b[38;5;66;03m# Load the contents of the config file into the so \"storage object\"\u001b[39;00m\n\u001b[1;32m----> 4\u001b[0m cload \u001b[38;5;241m=\u001b[39m \u001b[43mload_inputs\u001b[49m\u001b[38;5;241;43m.\u001b[39;49m\u001b[43mfill_data\u001b[49m\u001b[43m(\u001b[49m\u001b[43mso\u001b[49m\u001b[43m)\u001b[49m\n",
      "File \u001b[1;32mc:\\Users\\Willi\\Documents\\GitHub\\specsim\\specsim\\load_inputs.py:336\u001b[0m, in \u001b[0;36mfill_data.__init__\u001b[1;34m(self, so, track_on)\u001b[0m\n\u001b[0;32m    334\u001b[0m \u001b[38;5;66;03m# order of these matter\u001b[39;00m\n\u001b[0;32m    335\u001b[0m \u001b[38;5;28mself\u001b[39m\u001b[38;5;241m.\u001b[39mfilter(so)\n\u001b[1;32m--> 336\u001b[0m \u001b[38;5;28;43mself\u001b[39;49m\u001b[38;5;241;43m.\u001b[39;49m\u001b[43mstellar\u001b[49m\u001b[43m(\u001b[49m\u001b[43mso\u001b[49m\u001b[43m)\u001b[49m\n\u001b[0;32m    337\u001b[0m \u001b[38;5;28mself\u001b[39m\u001b[38;5;241m.\u001b[39mtelluric(so)\n\u001b[0;32m    338\u001b[0m \u001b[38;5;28mself\u001b[39m\u001b[38;5;241m.\u001b[39mao(so)\n",
      "File \u001b[1;32mc:\\Users\\Willi\\Documents\\GitHub\\specsim\\specsim\\load_inputs.py:381\u001b[0m, in \u001b[0;36mfill_data.stellar\u001b[1;34m(self, so)\u001b[0m\n\u001b[0;32m    378\u001b[0m \u001b[38;5;28mprint\u001b[39m(\u001b[38;5;124m'\u001b[39m\u001b[38;5;132;01m%s\u001b[39;00m\u001b[38;5;124m band mag set to \u001b[39m\u001b[38;5;132;01m%s\u001b[39;00m\u001b[38;5;124m'\u001b[39m\u001b[38;5;241m%\u001b[39m(so\u001b[38;5;241m.\u001b[39mfilt\u001b[38;5;241m.\u001b[39mband,so\u001b[38;5;241m.\u001b[39mstel\u001b[38;5;241m.\u001b[39mmag))\n\u001b[0;32m    380\u001b[0m \u001b[38;5;66;03m# load on axis target\u001b[39;00m\n\u001b[1;32m--> 381\u001b[0m so\u001b[38;5;241m.\u001b[39mstel\u001b[38;5;241m.\u001b[39ms, so\u001b[38;5;241m.\u001b[39mstel\u001b[38;5;241m.\u001b[39mvraw,so\u001b[38;5;241m.\u001b[39mstel\u001b[38;5;241m.\u001b[39msraw,so\u001b[38;5;241m.\u001b[39mstel\u001b[38;5;241m.\u001b[39mmodel, so\u001b[38;5;241m.\u001b[39mstel\u001b[38;5;241m.\u001b[39mstel_file, so\u001b[38;5;241m.\u001b[39mstel\u001b[38;5;241m.\u001b[39mfactor_0 \u001b[38;5;241m=\u001b[39m \u001b[43m_load_stellar_model\u001b[49m\u001b[43m(\u001b[49m\u001b[38;5;28;43mself\u001b[39;49m\u001b[38;5;241;43m.\u001b[39;49m\u001b[43mx\u001b[49m\u001b[43m,\u001b[49m\u001b[43mso\u001b[49m\u001b[38;5;241;43m.\u001b[39;49m\u001b[43mstel\u001b[49m\u001b[38;5;241;43m.\u001b[39;49m\u001b[43mmag\u001b[49m\u001b[43m,\u001b[49m\u001b[43mso\u001b[49m\u001b[38;5;241;43m.\u001b[39;49m\u001b[43mstel\u001b[49m\u001b[38;5;241;43m.\u001b[39;49m\u001b[43mteff\u001b[49m\u001b[43m,\u001b[49m\u001b[43mso\u001b[49m\u001b[38;5;241;43m.\u001b[39;49m\u001b[43mstel\u001b[49m\u001b[38;5;241;43m.\u001b[39;49m\u001b[43mvsini\u001b[49m\u001b[43m,\u001b[49m\u001b[43mso\u001b[49m\u001b[43m)\u001b[49m\n\u001b[0;32m    382\u001b[0m \u001b[38;5;66;03m# load companion if there is one (requires separation>0)\u001b[39;00m\n\u001b[0;32m    383\u001b[0m \u001b[38;5;28;01mif\u001b[39;00m so\u001b[38;5;241m.\u001b[39mstel\u001b[38;5;241m.\u001b[39mpl_sep\u001b[38;5;241m>\u001b[39m\u001b[38;5;241m0\u001b[39m:\n",
      "File \u001b[1;32mc:\\Users\\Willi\\Documents\\GitHub\\specsim\\specsim\\load_inputs.py:152\u001b[0m, in \u001b[0;36m_load_stellar_model\u001b[1;34m(x, mag, teff, vsini, so)\u001b[0m\n\u001b[0;32m    150\u001b[0m \tteff \u001b[38;5;241m=\u001b[39m \u001b[38;5;28mstr\u001b[39m(\u001b[38;5;28mint\u001b[39m(teff))\n\u001b[0;32m    151\u001b[0m \tstel_file         \u001b[38;5;241m=\u001b[39m so\u001b[38;5;241m.\u001b[39mstel\u001b[38;5;241m.\u001b[39msonora_folder \u001b[38;5;241m+\u001b[39m \u001b[38;5;124m'\u001b[39m\u001b[38;5;124msp_t\u001b[39m\u001b[38;5;132;01m%s\u001b[39;00m\u001b[38;5;124mg\u001b[39m\u001b[38;5;132;01m%s\u001b[39;00m\u001b[38;5;124mnc_m0.0\u001b[39m\u001b[38;5;124m'\u001b[39m \u001b[38;5;241m%\u001b[39m(teff,g)\n\u001b[1;32m--> 152\u001b[0m \tvraw,sraw \u001b[38;5;241m=\u001b[39m \u001b[43mload_sonora\u001b[49m\u001b[43m(\u001b[49m\u001b[43mstel_file\u001b[49m\u001b[43m,\u001b[49m\u001b[43mwav_start\u001b[49m\u001b[38;5;241;43m=\u001b[39;49m\u001b[43ml0\u001b[49m\u001b[43m,\u001b[49m\u001b[43mwav_end\u001b[49m\u001b[38;5;241;43m=\u001b[39;49m\u001b[43ml1\u001b[49m\u001b[43m)\u001b[49m\n\u001b[0;32m    153\u001b[0m \tmodel             \u001b[38;5;241m=\u001b[39m \u001b[38;5;124m'\u001b[39m\u001b[38;5;124msonora\u001b[39m\u001b[38;5;124m'\u001b[39m\n\u001b[0;32m    154\u001b[0m \u001b[38;5;28;01melse\u001b[39;00m:\n",
      "File \u001b[1;32mc:\\Users\\Willi\\Documents\\GitHub\\specsim\\specsim\\load_inputs.py:79\u001b[0m, in \u001b[0;36mload_sonora\u001b[1;34m(stelname, wav_start, wav_end)\u001b[0m\n\u001b[0;32m     66\u001b[0m \u001b[38;5;28;01mdef\u001b[39;00m \u001b[38;5;21mload_sonora\u001b[39m(stelname,wav_start\u001b[38;5;241m=\u001b[39m\u001b[38;5;241m750\u001b[39m,wav_end\u001b[38;5;241m=\u001b[39m\u001b[38;5;241m780\u001b[39m):\n\u001b[0;32m     67\u001b[0m \t\u001b[38;5;124;03m\"\"\"\u001b[39;00m\n\u001b[0;32m     68\u001b[0m \u001b[38;5;124;03m\tload sonora model file\u001b[39;00m\n\u001b[0;32m     69\u001b[0m \u001b[38;5;124;03m\t\u001b[39;00m\n\u001b[1;32m   (...)\u001b[0m\n\u001b[0;32m     77\u001b[0m \u001b[38;5;124;03m\twavelength loaded is microns high to low\u001b[39;00m\n\u001b[0;32m     78\u001b[0m \u001b[38;5;124;03m\t\"\"\"\u001b[39;00m\n\u001b[1;32m---> 79\u001b[0m \tf \u001b[38;5;241m=\u001b[39m \u001b[43mnp\u001b[49m\u001b[38;5;241;43m.\u001b[39;49m\u001b[43mloadtxt\u001b[49m\u001b[43m(\u001b[49m\u001b[43mstelname\u001b[49m\u001b[43m,\u001b[49m\u001b[43mskiprows\u001b[49m\u001b[38;5;241;43m=\u001b[39;49m\u001b[38;5;241;43m2\u001b[39;49m\u001b[43m)\u001b[49m\n\u001b[0;32m     81\u001b[0m \tlam  \u001b[38;5;241m=\u001b[39m \u001b[38;5;241m10000\u001b[39m\u001b[38;5;241m*\u001b[39m f[:,\u001b[38;5;241m0\u001b[39m][::\u001b[38;5;241m-\u001b[39m\u001b[38;5;241m1\u001b[39m] \u001b[38;5;66;03m#microns to angstroms, needed for conversiosn\u001b[39;00m\n\u001b[0;32m     82\u001b[0m \tspec \u001b[38;5;241m=\u001b[39m f[:,\u001b[38;5;241m1\u001b[39m][::\u001b[38;5;241m-\u001b[39m\u001b[38;5;241m1\u001b[39m] \u001b[38;5;66;03m# erg/cm2/s/Hz\u001b[39;00m\n",
      "File \u001b[1;32mc:\\Users\\Willi\\anaconda3\\envs\\SpecsimV2\\lib\\site-packages\\numpy\\lib\\npyio.py:1067\u001b[0m, in \u001b[0;36mloadtxt\u001b[1;34m(fname, dtype, comments, delimiter, converters, skiprows, usecols, unpack, ndmin, encoding, max_rows, like)\u001b[0m\n\u001b[0;32m   1065\u001b[0m     fname \u001b[38;5;241m=\u001b[39m os_fspath(fname)\n\u001b[0;32m   1066\u001b[0m \u001b[38;5;28;01mif\u001b[39;00m _is_string_like(fname):\n\u001b[1;32m-> 1067\u001b[0m     fh \u001b[38;5;241m=\u001b[39m \u001b[43mnp\u001b[49m\u001b[38;5;241;43m.\u001b[39;49m\u001b[43mlib\u001b[49m\u001b[38;5;241;43m.\u001b[39;49m\u001b[43m_datasource\u001b[49m\u001b[38;5;241;43m.\u001b[39;49m\u001b[43mopen\u001b[49m\u001b[43m(\u001b[49m\u001b[43mfname\u001b[49m\u001b[43m,\u001b[49m\u001b[43m \u001b[49m\u001b[38;5;124;43m'\u001b[39;49m\u001b[38;5;124;43mrt\u001b[39;49m\u001b[38;5;124;43m'\u001b[39;49m\u001b[43m,\u001b[49m\u001b[43m \u001b[49m\u001b[43mencoding\u001b[49m\u001b[38;5;241;43m=\u001b[39;49m\u001b[43mencoding\u001b[49m\u001b[43m)\u001b[49m\n\u001b[0;32m   1068\u001b[0m     fencoding \u001b[38;5;241m=\u001b[39m \u001b[38;5;28mgetattr\u001b[39m(fh, \u001b[38;5;124m'\u001b[39m\u001b[38;5;124mencoding\u001b[39m\u001b[38;5;124m'\u001b[39m, \u001b[38;5;124m'\u001b[39m\u001b[38;5;124mlatin1\u001b[39m\u001b[38;5;124m'\u001b[39m)\n\u001b[0;32m   1069\u001b[0m     fh \u001b[38;5;241m=\u001b[39m \u001b[38;5;28miter\u001b[39m(fh)\n",
      "File \u001b[1;32mc:\\Users\\Willi\\anaconda3\\envs\\SpecsimV2\\lib\\site-packages\\numpy\\lib\\_datasource.py:193\u001b[0m, in \u001b[0;36mopen\u001b[1;34m(path, mode, destpath, encoding, newline)\u001b[0m\n\u001b[0;32m    156\u001b[0m \u001b[38;5;124;03m\"\"\"\u001b[39;00m\n\u001b[0;32m    157\u001b[0m \u001b[38;5;124;03mOpen `path` with `mode` and return the file object.\u001b[39;00m\n\u001b[0;32m    158\u001b[0m \n\u001b[1;32m   (...)\u001b[0m\n\u001b[0;32m    189\u001b[0m \n\u001b[0;32m    190\u001b[0m \u001b[38;5;124;03m\"\"\"\u001b[39;00m\n\u001b[0;32m    192\u001b[0m ds \u001b[38;5;241m=\u001b[39m DataSource(destpath)\n\u001b[1;32m--> 193\u001b[0m \u001b[38;5;28;01mreturn\u001b[39;00m \u001b[43mds\u001b[49m\u001b[38;5;241;43m.\u001b[39;49m\u001b[43mopen\u001b[49m\u001b[43m(\u001b[49m\u001b[43mpath\u001b[49m\u001b[43m,\u001b[49m\u001b[43m \u001b[49m\u001b[43mmode\u001b[49m\u001b[43m,\u001b[49m\u001b[43m \u001b[49m\u001b[43mencoding\u001b[49m\u001b[38;5;241;43m=\u001b[39;49m\u001b[43mencoding\u001b[49m\u001b[43m,\u001b[49m\u001b[43m \u001b[49m\u001b[43mnewline\u001b[49m\u001b[38;5;241;43m=\u001b[39;49m\u001b[43mnewline\u001b[49m\u001b[43m)\u001b[49m\n",
      "File \u001b[1;32mc:\\Users\\Willi\\anaconda3\\envs\\SpecsimV2\\lib\\site-packages\\numpy\\lib\\_datasource.py:533\u001b[0m, in \u001b[0;36mDataSource.open\u001b[1;34m(self, path, mode, encoding, newline)\u001b[0m\n\u001b[0;32m    530\u001b[0m     \u001b[38;5;28;01mreturn\u001b[39;00m _file_openers[ext](found, mode\u001b[38;5;241m=\u001b[39mmode,\n\u001b[0;32m    531\u001b[0m                               encoding\u001b[38;5;241m=\u001b[39mencoding, newline\u001b[38;5;241m=\u001b[39mnewline)\n\u001b[0;32m    532\u001b[0m \u001b[38;5;28;01melse\u001b[39;00m:\n\u001b[1;32m--> 533\u001b[0m     \u001b[38;5;28;01mraise\u001b[39;00m \u001b[38;5;167;01mIOError\u001b[39;00m(\u001b[38;5;124m\"\u001b[39m\u001b[38;5;132;01m%s\u001b[39;00m\u001b[38;5;124m not found.\u001b[39m\u001b[38;5;124m\"\u001b[39m \u001b[38;5;241m%\u001b[39m path)\n",
      "\u001b[1;31mOSError\u001b[0m: /Users/Willi/Documents/GitHub/specsim/data/stel/sonora/sp_t200g316nc_m0.0 not found."
     ]
    }
   ],
   "source": [
    "# configfile = './specsim/configs/modhis_snr.cfg' # define our config file name and path\n",
    "configfile = './configs/melby_test_config.cfg'\n",
    "so    = objects.load_object(configfile)  # Load the contents of the config file into the so \"storage object\"\n",
    "cload = load_inputs.fill_data(so)        # Initiate the fill_data class which runs an observation and stores the results in so"
   ]
  },
  {
   "cell_type": "code",
   "execution_count": 11,
   "metadata": {},
   "outputs": [],
   "source": [
    "import zipfile\n",
    "import subprocess"
   ]
  },
  {
   "cell_type": "code",
   "execution_count": 5,
   "metadata": {},
   "outputs": [],
   "source": [
    "\n",
    "# Define the directory containing the zip subfolders\n",
    "base_directory = \"C:/Users/Willi/Documents/Research/Stellar_Data/Profile/\"\n",
    "\n",
    "# Walk through all files and directories within the base directory\n",
    "# for root, dirs, files in os.walk(base_directory):\n",
    "#     for file in files:\n",
    "#         if file.endswith(\".zip\"):\n",
    "#             file_path = os.path.join(root, file)\n",
    "#             # Define the directory to extract to (same as zip file's directory)\n",
    "#             extract_to = os.path.splitext(file_path)[0]\n",
    "#             # Create the extraction directory if it doesn't exist\n",
    "#             os.makedirs(extract_to, exist_ok=True)\n",
    "#             # Extract the zip file\n",
    "#             with zipfile.ZipFile(file_path, 'r') as zip_ref:\n",
    "#                 zip_ref.extractall(extract_to)\n",
    "#             print(f\"Extracted {file_path} to {extract_to}\")"
   ]
  },
  {
   "cell_type": "code",
   "execution_count": 12,
   "metadata": {},
   "outputs": [],
   "source": [
    "def extract_cmp_file(file_path, extract_to):\n",
    "    # Example command for a hypothetical tool\n",
    "    command = f\"cmp_tool -extract {file_path} -output {extract_to}\"\n",
    "    subprocess.run(command, shell=True)"
   ]
  },
  {
   "cell_type": "code",
   "execution_count": 15,
   "metadata": {},
   "outputs": [],
   "source": [
    "# Define the directory containing the .cmp subfolders\n",
    "base_directory = \"C:/Users/Willi/Documents/Research/Stellar_Data/profile/\"\n",
    "\n",
    "# Walk through all files and directories within the base directory\n",
    "for root, dirs, files in os.walk(base_directory):\n",
    "    for file in files:\n",
    "        if file.endswith(\".cmp\"):\n",
    "            file_path = os.path.join(root, file)\n",
    "            # Define the directory to extract to (same as cmp file's directory)\n",
    "            extract_to = os.path.splitext(file_path)[0]\n",
    "            # Create the extraction directory if it doesn't exist\n",
    "            os.makedirs(extract_to, exist_ok=True)\n",
    "            # Extract the cmp file\n",
    "            extract_cmp_file(file_path, extract_to)\n",
    "            print(f\"Extracted {file_path} to {extract_to}\")"
   ]
  },
  {
   "cell_type": "code",
   "execution_count": null,
   "metadata": {},
   "outputs": [],
   "source": []
  }
 ],
 "metadata": {
  "kernelspec": {
   "display_name": "Python 3",
   "language": "python",
   "name": "python3"
  },
  "language_info": {
   "codemirror_mode": {
    "name": "ipython",
    "version": 3
   },
   "file_extension": ".py",
   "mimetype": "text/x-python",
   "name": "python",
   "nbconvert_exporter": "python",
   "pygments_lexer": "ipython3",
   "version": "3.9.12"
  }
 },
 "nbformat": 4,
 "nbformat_minor": 2
}
