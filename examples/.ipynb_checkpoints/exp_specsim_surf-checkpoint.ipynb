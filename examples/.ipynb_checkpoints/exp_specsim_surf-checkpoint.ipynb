{
 "cells": [
  {
   "cell_type": "markdown",
   "id": "17adfa3e",
   "metadata": {},
   "source": [
    "# SNR Grid Calculations Tutorial"
   ]
  },
  {
   "cell_type": "code",
   "execution_count": 1,
   "id": "ab59648c",
   "metadata": {},
   "outputs": [
    {
     "name": "stderr",
     "output_type": "stream",
     "text": [
      "/usr/local/anaconda3/envs/surf_caltech/lib/python3.9/site-packages/pysynphot/locations.py:46: UserWarning: PYSYN_CDBS is undefined; functionality will be SEVERELY crippled.\n",
      "  warnings.warn(\"PYSYN_CDBS is undefined; functionality will be SEVERELY \"\n",
      "/usr/local/anaconda3/envs/surf_caltech/lib/python3.9/site-packages/pysynphot/locations.py:345: UserWarning: Extinction files not found in extinction\n",
      "  warnings.warn('Extinction files not found in %s' % (extdir, ))\n"
     ]
    },
    {
     "name": "stdout",
     "output_type": "stream",
     "text": [
      "Tried importing picaso, but couldn't do it\n"
     ]
    },
    {
     "name": "stderr",
     "output_type": "stream",
     "text": [
      "/var/folders/6t/cpjtlkn10wv603vnph9nr3sh0000gn/T/ipykernel_2114/2925467812.py:48: DeprecationWarning: Please use `median_filter` from the `scipy.ndimage` namespace, the `scipy.ndimage.filters` namespace is deprecated.\n",
      "  from scipy.ndimage.filters import median_filter\n"
     ]
    }
   ],
   "source": [
    "# import some general packages\n",
    "import sys,os\n",
    "import matplotlib\n",
    "import numpy as np\n",
    "import matplotlib.pylab as plt\n",
    "from scipy import interpolate\n",
    "from matplotlib.colors import LogNorm\n",
    "from datetime import date\n",
    "from astropy import units as u\n",
    "\n",
    "# make plot fonts big\n",
    "font = {'size'   : 14}\n",
    "matplotlib.rc('font', **font)\n",
    "\n",
    "# Load path to package and load a few useful things\n",
    "sys.path.append('/Users/huihaoz/specsim/utils/')\n",
    "from objects import load_object\n",
    "from load_inputs import fill_data\n",
    "from functions import *\n",
    "import plot_tools,obs_tools\n",
    "\n",
    "import numpy as np\n",
    "import matplotlib.pylab as plt\n",
    "from scipy.interpolate import interp1d\n",
    "from scipy.integrate import trapz\n",
    "from astropy.io import fits\n",
    "from scipy import interpolate\n",
    "import sys,glob,os\n",
    "import pandas as pd\n",
    "from astropy.convolution import Gaussian1DKernel, convolve\n",
    "import numpy as np\n",
    "import scipy.interpolate as si\n",
    "import astropy.units as u\n",
    "import astropy.constants as constants\n",
    "from astropy.modeling.models import BlackBody\n",
    "from psisim import datadir\n",
    "from psisim import spectrum\n",
    "import psisim.nair as nair\n",
    "from psisim import telescope,instrument,observation,spectrum,universe,plots,signal\n",
    "import time\n",
    "import numpy as np\n",
    "import astropy.units as u\n",
    "import matplotlib.pyplot as plt\n",
    "from importlib import reload\n",
    "import speclite.filters\n",
    "from scipy.interpolate import interp1d, RegularGridInterpolator as rgi\n",
    "from scipy.ndimage import gaussian_filter\n",
    "from scipy.ndimage.filters import median_filter\n",
    "from scipy.signal import medfilt, correlate\n",
    "from numpy.random import poisson, randn\n",
    "import copy \n"
   ]
  },
  {
   "cell_type": "code",
   "execution_count": 2,
   "id": "60db5ef6",
   "metadata": {},
   "outputs": [
    {
     "data": {
      "text/plain": [
       "1.0"
      ]
     },
     "execution_count": 2,
     "metadata": {},
     "output_type": "execute_result"
    }
   ],
   "source": [
    "import glob\n",
    "separations=400 * u.mas\n",
    "wvs = np.linspace(0.5,2.5,2000)*u.nm\n",
    "th_planet = 1 * np.ones([np.size(separations), np.size(wvs)]) \n",
    "np.min(th_planet[0])"
   ]
  },
  {
   "cell_type": "code",
   "execution_count": 3,
   "id": "7a9022dc",
   "metadata": {},
   "outputs": [],
   "source": [
    "zp_file='/Users/huihaoz/specsim/_Data/filters/zeropoints.txt'\n",
    "filter_path='/Users/huihaoz/specsim/_Data/filters/'\n",
    "band='J'\n",
    "family='2mass'"
   ]
  },
  {
   "cell_type": "code",
   "execution_count": 4,
   "id": "5003fff2",
   "metadata": {},
   "outputs": [
    {
     "data": {
      "text/plain": [
       "'/Users/huihaoz/specsim/_Data/filters/2mass.J.dat'"
      ]
     },
     "execution_count": 4,
     "metadata": {},
     "output_type": "execute_result"
    }
   ],
   "source": [
    "glob.glob(filter_path + '*' + family + '*' + band + '.dat')[0]"
   ]
  },
  {
   "cell_type": "markdown",
   "id": "a73809b0",
   "metadata": {},
   "source": [
    "## Loading Config File & Running an Observation\n",
    "\n",
    "### Background\n",
    "Key parameters are stored in the configuration file \"hispec.cfg\". The function \"load_object\" loads the contents of this configuration file into a storage object \"so'. The objects.py function is a useful reference for seeing what is contained in so, but it has class attributes like 'stel' for stellar properties and 'track' for tracking camera properties. For example, the stellar temperature defined in the config file will be loaded and stored in \"so.stel.teff\".\n",
    "\n",
    "The \"fill_data\" class takes the storage object and upon initiation, it fills the so object by running a bunch of things. As such, this process takes a little while - first it defines the wavelength grid (x) and yJHK filter bounds, then does the dirty work of loading, reinterpolating files, and calculating things in the following order:\n",
    "\n",
    "**filter**\n",
    "    (loads zeropoint and filter transmission curve for the band selected)\n",
    "\n",
    "**stellar** \n",
    "    (loads the stellar spectrum based on the temperature chosen and scales it to the magnitude requested in the filter band set in the filter attribute of so)\n",
    "\n",
    "**telluric**\n",
    "    (loads the telluric spectrum and scales to the requested PWV and airmass)\n",
    "\n",
    "**ao**\n",
    "    (by default takes the magnitude of the star and uses input files to determine the expected WFE based on the AO mode selected which should match headers in the file. Or one can just set the params to some WFE)\n",
    "\n",
    "**instrument**\n",
    "    (loads the instrument transmission file if there is one, otherwise does HISPEC/MODHIS specific things and loads the base throughput and finds the coupling based on the WFE found previously assuming a specific file format)\n",
    "\n",
    "**observe** \n",
    "    (takes all the loaded files to find the spectral flux at the instruments and degrades and resamples the spectrum according to the resolution and pixels provided. It also loads the background spectrum and noise to get the SNR per pixel and per resolution element)\n",
    "\n",
    "**tracking** \n",
    "    (loads the tracking camera properties for the camera specified, loads the transmission file, interpolates, calculates the platescale, makes the tracking band transmission file, computs the PSF FWHM and the strehl, determines the sky and instrument background, computes the photons at the tracking camera, combines the noise, gives the SNR and expected centroid error\n",
    "    \n",
    "There are some other functions in the load_objects.py that can be used to reload a subset of things and are useful since there are a lot of orders of operations. These are still kinda confusing but I will demonstrate how I use them to cycle over a lot of parameters\n",
    "\n",
    "## The Code - Running A Single Instance\n",
    "Here is the code to load a config file and run it"
   ]
  },
  {
   "cell_type": "code",
   "execution_count": 5,
   "id": "7cfea7f1",
   "metadata": {},
   "outputs": [],
   "source": [
    "configfile = '/Users/huihaoz/specsim/examples/modhis.cfg' # define our config file name and path"
   ]
  },
  {
   "cell_type": "code",
   "execution_count": 6,
   "id": "29df249a",
   "metadata": {},
   "outputs": [],
   "source": [
    "so    = load_object(configfile)     # Load the contents of the config file into the so \"storage object\""
   ]
  },
  {
   "cell_type": "code",
   "execution_count": 7,
   "id": "b7f8502f",
   "metadata": {},
   "outputs": [
    {
     "name": "stdout",
     "output_type": "stream",
     "text": [
      "------FILLING OBJECT--------\n",
      "Star Teff set to 2800.0\n",
      "Star K band mag set to 14.0\n",
      "Planet Teff set to 700.0\n",
      "Planet K band mag set to 19.0\n",
      "HO WFE V mag is 20.288981656569298\n",
      "Tip Tilt V mag is 20.288981656569298\n",
      "AO mode: LGS_OFF\n",
      "HO WFE is 213.0\n",
      "tt dynamic is 2.55\n",
      "Texp per frame set to 900.0\n",
      "Nframes set to 16\n"
     ]
    },
    {
     "name": "stderr",
     "output_type": "stream",
     "text": [
      "/Users/huihaoz/specsim/utils/noise_tools.py:192: RuntimeWarning: invalid value encountered in sqrt\n",
      "  sig_flux = np.sqrt(flux)\n",
      "/Users/huihaoz/specsim/utils/noise_tools.py:196: RuntimeWarning: invalid value encountered in sqrt\n",
      "  sig_bg   = np.sqrt(inst_bg + sky_bg)\n",
      "/usr/local/anaconda3/envs/surf_caltech/lib/python3.9/site-packages/scipy/signal/_signaltools.py:508: RuntimeWarning: invalid value encountered in multiply\n",
      "  ret = ifft(sp1 * sp2, fshape, axes=axes)\n"
     ]
    },
    {
     "name": "stdout",
     "output_type": "stream",
     "text": [
      "Tracking FWHM=3.8487820712158713pix\n",
      "Tracking photons: 135937.1085128926 e-\n",
      "Tracking noise: 371.10655227311906 e-\n",
      "dynamic instrument contrast ready\n",
      "Texp per frame set to 900.0\n",
      "Nframes set to 16\n",
      "direct imaging ready\n"
     ]
    },
    {
     "name": "stderr",
     "output_type": "stream",
     "text": [
      "/Users/huihaoz/specsim/utils/noise_tools.py:246: RuntimeWarning: invalid value encountered in sqrt\n",
      "  sig_flux = np.sqrt(flux)\n",
      "/Users/huihaoz/specsim/utils/noise_tools.py:250: RuntimeWarning: invalid value encountered in sqrt\n",
      "  sig_bg   = np.sqrt(inst_bg + sky_bg)\n"
     ]
    }
   ],
   "source": [
    "cload = fill_data(so)               # Initiate the fill_data class which runs an observation and stores the results in so"
   ]
  },
  {
   "cell_type": "code",
   "execution_count": 8,
   "id": "6f703496",
   "metadata": {},
   "outputs": [
    {
     "data": {
      "text/plain": [
       "array([12.72792206, 12.72792206, 12.72792206, ...,  7.92943784,\n",
       "        7.92947136,  7.92950488])"
      ]
     },
     "execution_count": 8,
     "metadata": {},
     "output_type": "execute_result"
    }
   ],
   "source": [
    "so.obs.noise_frame_p"
   ]
  },
  {
   "cell_type": "code",
   "execution_count": 15,
   "id": "d1a73729",
   "metadata": {},
   "outputs": [
    {
     "data": {
      "text/plain": [
       "900.0"
      ]
     },
     "execution_count": 15,
     "metadata": {},
     "output_type": "execute_result"
    }
   ],
   "source": [
    "so.obs.texp_frame"
   ]
  },
  {
   "cell_type": "code",
   "execution_count": 19,
   "id": "2a91b9b6",
   "metadata": {},
   "outputs": [
    {
     "data": {
      "text/plain": [
       "16"
      ]
     },
     "execution_count": 19,
     "metadata": {},
     "output_type": "execute_result"
    }
   ],
   "source": [
    "so.obs.nframes"
   ]
  },
  {
   "cell_type": "code",
   "execution_count": 24,
   "id": "1ef309e3",
   "metadata": {},
   "outputs": [
    {
     "data": {
      "text/plain": [
       "[<matplotlib.lines.Line2D at 0x16ec7b880>]"
      ]
     },
     "execution_count": 24,
     "metadata": {},
     "output_type": "execute_result"
    },
    {
     "data": {
      "image/png": "[encoded data removed]",
      "text/plain": [
       "<Figure size 432x288 with 1 Axes>"
      ]
     },
     "metadata": {
      "needs_background": "light"
     },
     "output_type": "display_data"
    }
   ],
   "source": [
    "plt.plot(so.inst.xtransmit,so.inst.ytransmit)"
   ]
  },
  {
   "cell_type": "code",
   "execution_count": 9,
   "id": "a7df0323",
   "metadata": {},
   "outputs": [
    {
     "name": "stderr",
     "output_type": "stream",
     "text": [
      "No artists with labels found to put in legend.  Note that artists whose label start with an underscore are ignored when legend() is called with no argument.\n"
     ]
    },
    {
     "data": {
      "image/png": "[encoded data removed]",
      "text/plain": [
       "<Figure size 2160x720 with 1 Axes>"
      ]
     },
     "metadata": {
      "needs_background": "light"
     },
     "output_type": "display_data"
    }
   ],
   "source": [
    "plt.figure(figsize=(30,10))\n",
    "\n",
    "plt.plot(so.obs.v,so.obs.p)\n",
    "plt.legend()\n",
    "\n",
    "plt.xlabel(\"Wavelength \")\n",
    "plt.ylabel(\"Spectrum (electron)\")\n",
    "plt.title(r\"MODHIS Observation of Sonora grid $T_{{eff}}$ = 400 K,logg = NA, Exp. Time = 4hours, $N_{{exp}}$= 1\")\n",
    "#plt.ylim(1e-4,1e2)\n",
    "plt.grid()"
   ]
  },
  {
   "cell_type": "code",
   "execution_count": 10,
   "id": "e8499e7b",
   "metadata": {},
   "outputs": [
    {
     "data": {
      "text/plain": [
       "[<matplotlib.lines.Line2D at 0x1729144c0>]"
      ]
     },
     "execution_count": 10,
     "metadata": {},
     "output_type": "execute_result"
    },
    {
     "data": {
      "image/png": "[encoded data removed]",
      "text/plain": [
       "<Figure size 432x288 with 1 Axes>"
      ]
     },
     "metadata": {
      "needs_background": "light"
     },
     "output_type": "display_data"
    }
   ],
   "source": [
    "plt.plot(so.obs.v,so.obs.noise_p)"
   ]
  },
  {
   "cell_type": "code",
   "execution_count": 11,
   "id": "8ede3972",
   "metadata": {},
   "outputs": [
    {
     "data": {
      "text/plain": [
       "[<matplotlib.lines.Line2D at 0x16e0703d0>]"
      ]
     },
     "execution_count": 11,
     "metadata": {},
     "output_type": "execute_result"
    },
    {
     "data": {
      "image/png": "[encoded data removed]",
      "text/plain": [
       "<Figure size 432x288 with 1 Axes>"
      ]
     },
     "metadata": {
      "needs_background": "light"
     },
     "output_type": "display_data"
    }
   ],
   "source": [
    "plt.plot(so.obs.v,(so.coron.inst_contr))"
   ]
  },
  {
   "cell_type": "code",
   "execution_count": 12,
   "id": "81384f18",
   "metadata": {},
   "outputs": [
    {
     "data": {
      "text/plain": [
       "[<matplotlib.lines.Line2D at 0x16e112070>]"
      ]
     },
     "execution_count": 12,
     "metadata": {},
     "output_type": "execute_result"
    },
    {
     "data": {
      "image/png": "[encoded data removed]",
      "text/plain": [
       "<Figure size 432x288 with 1 Axes>"
      ]
     },
     "metadata": {
      "needs_background": "light"
     },
     "output_type": "display_data"
    }
   ],
   "source": [
    "plt.plot(so.obs.v,(so.coron.inst_contr * so.obs.s))"
   ]
  },
  {
   "cell_type": "code",
   "execution_count": 13,
   "id": "5d91c138",
   "metadata": {},
   "outputs": [
    {
     "data": {
      "text/plain": [
       "array([0., 0., 0., ..., 0., 0., 0.])"
      ]
     },
     "execution_count": 13,
     "metadata": {},
     "output_type": "execute_result"
    }
   ],
   "source": [
    "so.obs.p"
   ]
  },
  {
   "cell_type": "code",
   "execution_count": 14,
   "id": "ce447e23",
   "metadata": {},
   "outputs": [
    {
     "data": {
      "text/plain": [
       "[<matplotlib.lines.Line2D at 0x16e170460>]"
      ]
     },
     "execution_count": 14,
     "metadata": {},
     "output_type": "execute_result"
    },
    {
     "data": {
      "image/png": "[encoded data removed]",
      "text/plain": [
       "<Figure size 432x288 with 1 Axes>"
      ]
     },
     "metadata": {
      "needs_background": "light"
     },
     "output_type": "display_data"
    }
   ],
   "source": [
    "plt.plot(so.obs.v,so.obs.p /so.obs.v)"
   ]
  },
  {
   "cell_type": "code",
   "execution_count": null,
   "id": "2da6032a",
   "metadata": {},
   "outputs": [],
   "source": [
    "plt.plot(so.obs.v,so.coron.inst_contr[0])"
   ]
  },
  {
   "cell_type": "code",
   "execution_count": null,
   "id": "8f0af465",
   "metadata": {},
   "outputs": [],
   "source": [
    "plt.plot(so.inst.xtransmit/1000 * u.um,so.coron.contrast[0])"
   ]
  },
  {
   "cell_type": "code",
   "execution_count": null,
   "id": "606c5f4c",
   "metadata": {},
   "outputs": [],
   "source": [
    "so.coron.contrast"
   ]
  },
  {
   "cell_type": "code",
   "execution_count": null,
   "id": "56526426",
   "metadata": {},
   "outputs": [],
   "source": [
    "so.ao.ho_wfe_mag"
   ]
  },
  {
   "cell_type": "code",
   "execution_count": null,
   "id": "7dc268f1",
   "metadata": {},
   "outputs": [],
   "source": [
    "so.inst.strehl"
   ]
  },
  {
   "cell_type": "code",
   "execution_count": null,
   "id": "40f09780",
   "metadata": {},
   "outputs": [],
   "source": [
    "so.inst.xtransmit"
   ]
  },
  {
   "cell_type": "code",
   "execution_count": null,
   "id": "b06826f8",
   "metadata": {},
   "outputs": [],
   "source": [
    "p_law_dh = -2.0\n",
    "telescope_seeing=0.6 *u.arcsec\n",
    "nactuators = 60. - 2.0\n",
    "telescope_diameter=30* u.m\n",
    "fiber_contrast_gain = 10."
   ]
  },
  {
   "cell_type": "code",
   "execution_count": null,
   "id": "a598020f",
   "metadata": {},
   "outputs": [],
   "source": [
    "def get_speckle_noise(mode,separations,ao_mag,wvs,filter=None,star_spt=None,telescope=None,ao_mag2=None):\n",
    "    '''\n",
    "    Returns the contrast for a given list of separations.\n",
    "\n",
    "    Inputs: \n",
    "    separations  - A list of separations at which to calculate the speckle noise in arcseconds [float list length n]. Assumes these are sorted. \n",
    "    ao_mag       - The magnitude in the ao band, here assumed to be I-band\n",
    "    wvs          - A list of wavelengths in microns [float length m]\n",
    "    telescope    - A psisim telescope object.\n",
    "\n",
    "    Outputs: \n",
    "    get_speckle_noise - Either an array of length [n,1] if only one wavelength passed, or shape [n,m]\n",
    "\n",
    "    '''\n",
    "\n",
    "    #TODO: decide if PIAA will be optional via flag or permanent\n",
    "    #TODO: add ADC residuals effect\n",
    "    #TODO: @Max, why feed \"filter\", \"star_spt\" if not used. Why feed \"telescope\" if already available from self.telescope?\n",
    "\n",
    "    #if self.mode != 'vfn':\n",
    "    #    print(\"Warning: only 'vfn' mode has been confirmed\")\n",
    "\n",
    "    if mode == \"on-axis\":\n",
    "        return np.ones([np.size(separations),np.size(wvs)])\n",
    "\n",
    "    if np.size(wvs) < 2:\n",
    "        wvs = np.array(wvs)\n",
    "\n",
    "    if mode == \"off-axis\":\n",
    "        #-- Deal with nominal MODHIS mode (fiber centered on planet)\n",
    "        #TODO: this was copied from KPIC instrument. Check if any mods are needed for MODHIS\n",
    "\n",
    "        #Get the Strehl Ratio\n",
    "        SR = so.inst.strehl\n",
    "\n",
    "        p_law_kolmogorov = -11./3\n",
    "        p_law_ao_coro_filter = p_law_dh#-p_law_kolmogorov \n",
    "\n",
    "        r0 = 0.55e-6/(telescope_seeing.to(u.arcsecond).value/206265) * u.m #Easiest to ditch the seeing unit here. \n",
    "\n",
    "        #The AO control radius in units of lambda/D\n",
    "        cutoff = nactuators/2\n",
    "\n",
    "        contrast = np.zeros([np.size(separations),np.size(wvs)])\n",
    "\n",
    "        if np.size(separations) < 2:\n",
    "            separations = np.array([separations.value])*separations.unit\n",
    "\n",
    "        #Dimitri to put in references to this math\n",
    "        r0_sc = r0 * (wvs/(0.55*u.micron))**(6./5)\n",
    "        w_halo = telescope_diameter / r0_sc\n",
    "\n",
    "        for i,sep in enumerate(separations):\n",
    "            ang_sep_resel_in = sep/206265/u.arcsecond*telescope_diameter/wvs.to(u.m) #Convert separtiona from arcsec to units of lam/D\n",
    "\n",
    "            f_halo = np.pi*(1-SR)*0.488/w_halo**2 * (1+11./6*(ang_sep_resel_in/w_halo)**2)**(-11/6.)\n",
    "\n",
    "            contrast_at_cutoff = np.pi*(1-SR)*0.488/w_halo**2 * (1+11./6*(cutoff/w_halo)**2)**(-11/6.)\n",
    "            #Fill in the contrast array\n",
    "            contrast[i,:] = f_halo\n",
    "\n",
    "            biggest_ang_sep = np.abs(ang_sep_resel_in - cutoff) == np.min(np.abs(ang_sep_resel_in - cutoff))\n",
    "\n",
    "            contrast[i][ang_sep_resel_in < cutoff] = contrast_at_cutoff[ang_sep_resel_in < cutoff]*(ang_sep_resel_in[ang_sep_resel_in < cutoff]/cutoff)**p_law_ao_coro_filter\n",
    "\n",
    "        #Apply the fiber contrast gain\n",
    "        contrast /= fiber_contrast_gain\n",
    "\n",
    "        #Make sure nothing is greater than 1. \n",
    "        contrast[contrast>1] = 1.\n",
    "\n",
    "        return contrast\n",
    "\n",
    "    else:\n",
    "        raise ValueError(\"'%s' is a not a supported 'mode'\" % (mode))"
   ]
  },
  {
   "cell_type": "code",
   "execution_count": null,
   "id": "8c6234a5",
   "metadata": {},
   "outputs": [],
   "source": [
    "contrast=get_speckle_noise(mode='off-axis',separations=400 * u.mas,ao_mag=so.ao.ho_wfe_mag,  wvs=so.inst.xtransmit/1000 * u.um)\n",
    "                  "
   ]
  },
  {
   "cell_type": "code",
   "execution_count": null,
   "id": "f1e3a800",
   "metadata": {},
   "outputs": [],
   "source": [
    "plt.plot(so.inst.xtransmit/1000 * u.um,contrast[0])"
   ]
  },
  {
   "cell_type": "raw",
   "id": "affa5dfb",
   "metadata": {},
   "source": [
    "# Changing a parameter - Method 1\n",
    "The following example shows how to change the temperature of the star and rerun using the same code. At a different temperature, the magnitude of the star in the band pertinent to defining the AO performance will be different and therefore the AO performance will be different"
   ]
  },
  {
   "cell_type": "raw",
   "id": "a1c3cfd2",
   "metadata": {},
   "source": [
    "so.stel.teff = 3600# redefine the stellar temperature\n",
    "cload = fill_data(so)           # redo filling the data"
   ]
  },
  {
   "cell_type": "raw",
   "id": "f9b49921",
   "metadata": {},
   "source": [
    "# Changing a parameter - Method 2\n",
    "Some parameters or situations don't require re-running everything. For example, maybe you don't care about the tracking camera. Or if we only want to change something related to the tracking camera, we don't need to re-run the spectrograph. In this case we can use some of the extra functions defined in the fill_data class such as 'set_tracking_band_texp' or 'set_filter_band_mag'. Here is an example:"
   ]
  },
  {
   "cell_type": "raw",
   "id": "078e266e",
   "metadata": {},
   "source": [
    "new_band = \"J\"\n",
    "new_texp = 0.1\n",
    "cload.set_tracking_band_texp(so, new_band, new_texp)"
   ]
  },
  {
   "cell_type": "markdown",
   "id": "74684391",
   "metadata": {},
   "source": [
    "# Plotting the Spectrum\n",
    "There are several tools for plotting in plot_tools.py which we loaded earlier as plot_tools. Not all plot functions are currently working well and a lot require certain data paths to be fixed. \n",
    "\n",
    "Here is an example how to use some of the key ones that should work! For example, how to plot the SNR spectrum, the base throughput, the background noise, etc. These functions take the so object, so it plots the parameters stored in so from the latest run."
   ]
  },
  {
   "cell_type": "raw",
   "id": "a486c69b",
   "metadata": {
    "scrolled": false
   },
   "source": [
    "savepath = './'\n",
    "#plot_tools.plot_ph_per_sec_nm(so,snrtype=0,savepath=savepath)\n",
    "plot_tools.plot_snr(so,snrtype=0,savepath=savepath) #1\n",
    "plot_tools.plot_noise(so,snrtype=0,savepath=savepath)\n",
    "plot_tools.plot_photon(so,snrtype=0,savepath=savepath)\n",
    "#plot_tools.plot_coupling(so,savepath=savepath) # these ones are weird\n",
    "#plot_tools.plot_base_throughput(so,savepath=savepath)\n",
    "#plot_tools.plot_tracking_bands(so,savepath=savepath)\n",
    "#plot_tools.plot_background_spectra(so,savepath=savepath)"
   ]
  },
  {
   "cell_type": "raw",
   "id": "0b67c46a",
   "metadata": {},
   "source": [
    "psisim_unit = (so.stel.s*u.ph / (u.nm * u.m**2 * u.s)).to(u.ph/(u.AA * u.s * u.cm**2))"
   ]
  },
  {
   "cell_type": "raw",
   "id": "076e013f",
   "metadata": {},
   "source": [
    "plt.plot(so.stel.v, psisim_unit)\n",
    "plt.xlabel(\"Wavelength [nm]\")\n",
    "plt.ylabel(\"Spectrum [ph/ Ang s cm2]\")"
   ]
  },
  {
   "cell_type": "raw",
   "id": "9119e2dc",
   "metadata": {},
   "source": [
    "#plot_tools.plot_tracking_cam_spot_rms(camera='h2rg')\n",
    "plt.plot(so.inst.xtransmit,so.inst.base_throughput * so.inst.coupling)"
   ]
  },
  {
   "cell_type": "markdown",
   "id": "ce9a65cb",
   "metadata": {},
   "source": [
    "# Running a grid of parameters"
   ]
  },
  {
   "cell_type": "raw",
   "id": "2699c36b",
   "metadata": {
    "scrolled": false
   },
   "source": [
    "def run_snr_v_mag(so,teff='default',ao_mode='default'):\n",
    "    \"\"\"\n",
    "    code to step through magnitudes\n",
    "    \"\"\"\n",
    "    if teff!='default':  so.stel.teff = teff\n",
    "    if ao_mode!='default':  so.ao.mode = ao_mode # load new ao mode\n",
    "\n",
    "    cload.set_teff_mag(so,teff,so.stel.mag,star_only=False)\n",
    "    mag_arr= np.arange(5,16)\n",
    "    snr_arr = []\n",
    "    s_arr   = []\n",
    "    n_arr   = []\n",
    "    c_arr   = []\n",
    "    snr_reselement= []\n",
    "\n",
    "    for mag in mag_arr:\n",
    "        cload.set_mag(so,mag) \n",
    "        snr_arr.append(so.obs.snr)\n",
    "        s_arr.append(so.obs.s_frame)\n",
    "        snr_reselement.append(so.obs.snr_reselement) # plot snr per res element\n",
    "        n_arr.append(so.obs.noise_frame)\n",
    "        c_arr.append(so.inst.coupling)\n",
    "\n",
    "    return mag_arr,snr_arr,s_arr,n_arr,c_arr,snr_reselement\n",
    "\n",
    "def plot_snr_mag_peaks_2d(so, mag_arr,v,snr_arr,xextent=[980,2460],mode='max'):\n",
    "    \"\"\"\n",
    "    \"\"\"\n",
    "    def fmt(x):\n",
    "        return str(int(x))\n",
    "\n",
    "    snr_arr_order= []\n",
    "    for i,mag in enumerate(mag_arr):\n",
    "        cen_lam, snr_peaks,snr_means = obs_tools.get_order_value(so,v,snr_arr[i])\n",
    "        if mode=='max':\n",
    "            #ax.plot(cen_lam,snr_peaks,label='m=%s'%mag)\n",
    "            snr_arr_order.append(snr_peaks)\n",
    "        elif mode=='mean':\n",
    "            #ax.plot(cen_lam,snr_means,label='m=%s'%mag)\n",
    "            snr_arr_order.append(snr_means)\n",
    "\n",
    "    snr_arr_order = np.array(snr_arr_order)\n",
    "\n",
    "    # resample onto regular grid for imshow\n",
    "    #xs = np.arange(np.min(cen_lam),np.max(cen_lam))\n",
    "    xs = np.arange(np.min(xextent), np.max(xextent))\n",
    "    snr_arr_order_regular = np.zeros((len(mag_arr),len(xs)))\n",
    "    for i,mag in enumerate(mag_arr):\n",
    "        tmp = interpolate.interp1d(cen_lam, snr_arr_order[i],kind='linear',bounds_error=False,fill_value=0)\n",
    "        snr_arr_order_regular[i,:] = tmp(xs)\n",
    "\n",
    "    extent = (np.min(xs),np.max(xs),np.min(mag_arr),np.max(mag_arr))\n",
    "\n",
    "    \n",
    "\n",
    "    fig, ax = plt.subplots(1,1, figsize=(9,8))\t\n",
    "    norm = LogNorm(vmin=1, vmax=10000)\n",
    "\n",
    "    ax.imshow(snr_arr_order_regular, aspect='auto', origin='lower',\n",
    "              interpolation='quadric', cmap='nipy_spectral', extent=extent, norm=norm)\n",
    "#    ax.imshow(snr_arr_order_regular,aspect='auto',origin='lower',\\\n",
    "#                interpolation='quadric',cmap='nipy_spectral',\\\n",
    "#                extent=extent,vmax=10000,vmin=1,norm=LogNorm())\n",
    "    cs = ax.contour(snr_arr_order_regular, levels=[30,50,100,200,500,1000] ,\\\n",
    "                colors=['r','k','k','k','k','k'],origin='lower',\\\n",
    "                extent=extent)\n",
    "    ax.invert_yaxis()\n",
    "    ax.clabel(cs, cs.levels, inline=True,fmt=fmt,fontsize=10,\\\n",
    "        colors=['r','r','r','r'],zorder=101)\n",
    "    #plt.xticks(list(cen_lam))\n",
    "    blackout = [1327,1490]\n",
    "    plt.fill_between(blackout,np.min(mag_arr),np.max(mag_arr),facecolor='k',\\\n",
    "            hatch='X',edgecolor='gray',zorder=100)\n",
    "    try:\n",
    "        c30   = cs.collections[0].get_paths()[1].vertices # extract 30 snr curve\n",
    "        c30_2 = cs.collections[0].get_paths()[0].vertices # extract 30 snr curve\n",
    "        plt.fill_between(c30[:,0],np.max(mag_arr),c30[:,1],hatch='/',fc='k',edgecolor='r')\n",
    "        plt.fill_between(c30_2[:,0],np.max(mag_arr),c30_2[:,1],hatch='/',fc='k',edgecolor='r')\n",
    "    except IndexError:\n",
    "        pass\n",
    "\n",
    "    ax.set_ylabel('%s Magnitude'%so.filt.band)\n",
    "    ax.set_xlabel('Wavelength (nm)')\n",
    "    ax.set_xlim(xextent)\n",
    "    ax.set_title('AO Mode: %s, %sband, Teff:%s, t=4hr'%(so.ao.mode,so.filt.band,so.stel.teff))\n",
    "    figname = 'snr2d_%s_band_%s_teff_%s_texp_%ss.png' %(so.ao.mode,so.filt.band,so.stel.teff,so.obs.texp)\n",
    "    # duplicate axis to plot filter response\n",
    "    plt.savefig('./' + figname)\n",
    "\n",
    "\n",
    "\n",
    "datestr  = date.today().strftime(\"%Y%m%d\")#'20230406' #date.today().strftime(\"%Y%m%d\")\t\t\n",
    "savepath = './output/snr_out/%s/' %datestr\n",
    "if not os.path.isdir(savepath): os.makedirs(savepath)\n",
    "for i in np.arange(4):\n",
    "    so.filt.band   = ['y','J','H','K'][i]\n",
    "    so.filt.family = ['cfht','2mass','2mass','2mass'][i]\n",
    "    xextent = [so.inst.y,so.inst.J,so.inst.H,so.inst.K][i]\n",
    "\n",
    "    # mag step\n",
    "    teff    = 3000\n",
    "    ao_mode = 'LGS_ON'\n",
    "    mag_arr,snr_arr,s_arr,n_arr,c_arr,snr_reselement = run_snr_v_mag(so,teff=teff,ao_mode=ao_mode)\n",
    "    #np.save(savepath + 'snr_arr_mag_teff_%s_band_%s_aomode_%s'%(so.stel.teff,so.filt.band,ao_mode),snr_arr,ao_mode)\t\t\n",
    "    plot_snr_mag_peaks_2d(so, mag_arr,so.obs.v_resamp,snr_reselement,xextent=xextent,mode='max')\n",
    "    #plt.savefig(savepath + 'snr_arr_mag_teff_%s_band_%s_aomode_%s.png'%(so.stel.teff,so.filt.band,ao_mode))\n",
    "    #plot_snr_mag_peaks(so, mag_arr,so.obs.v_resamp,snr_reselement,mode='max')\n",
    "\n"
   ]
  },
  {
   "cell_type": "markdown",
   "id": "fb92c246",
   "metadata": {},
   "source": [
    "# Future Implementation List\n",
    "\n",
    "- add a function that prints key parameters defined in \"so\" - perhaps be able to print a summary for each item like telluric, stellar, etc. And also a general one\n",
    "\n",
    "- make plotting scripts work, cut out ones that dont work or work on saved files not included in the utilities (e.g. only save plot scripts that plot things from so object)\n",
    "\n",
    "- make things that point to a file path work from the config\n",
    "\n",
    "- implement variable resolution\n",
    "\n",
    "- implement testing functions to test things are working properly - one good test is to check the validity of magnitude conversions, like the colors of the given star can be checked\n",
    "\n",
    "- comment objects.py and add all new variables to init"
   ]
  },
  {
   "cell_type": "code",
   "execution_count": null,
   "id": "1e4d8bf4",
   "metadata": {},
   "outputs": [],
   "source": [
    "\tdef get_speckle_noise(self,mode,separations,ao_mag,wvs,filter=None,star_spt=None,telescope=None,ao_mag2=None):\n",
    "\t\t'''\n",
    "\t\tReturns the contrast for a given list of separations.\n",
    "\n",
    "\t\tInputs: \n",
    "\t\tseparations  - A list of separations at which to calculate the speckle noise in arcseconds [float list length n]. Assumes these are sorted. \n",
    "\t\tao_mag       - The magnitude in the ao band, here assumed to be I-band\n",
    "\t\twvs          - A list of wavelengths in microns [float length m]\n",
    "\t\ttelescope    - A psisim telescope object.\n",
    "\n",
    "\t\tOutputs: \n",
    "\t\tget_speckle_noise - Either an array of length [n,1] if only one wavelength passed, or shape [n,m]\n",
    "\n",
    "\t\t'''\n",
    "\n",
    "\t\t#TODO: decide if PIAA will be optional via flag or permanent\n",
    "\t\t#TODO: add ADC residuals effect\n",
    "\t\t#TODO: @Max, why feed \"filter\", \"star_spt\" if not used. Why feed \"telescope\" if already available from self.telescope?\n",
    "\n",
    "\t\t#if self.mode != 'vfn':\n",
    "\t\t#    print(\"Warning: only 'vfn' mode has been confirmed\")\n",
    "\t\tseparations = so.stel.ang_sep * u.mas\n",
    "\t\tao_mag=so.ao.ho_wfe_mag\n",
    "\t\tmode=so.coron.mode\n",
    "\t\twvs=so.inst.xtransmit/1000 * u.um\n",
    "        \n",
    "\t\tif mode == \"on-axis\":\n",
    "\t\t\treturn np.ones([np.size(separations),np.size(wvs)])\n",
    "\n",
    "\t\tif np.size(wvs) < 2:\n",
    "\t\t\twvs = np.array(wvs)\n",
    "\n",
    "\t\tif mode == \"off-axis\":\n",
    "\t\t\t#-- Deal with nominal MODHIS mode (fiber centered on planet)\n",
    "\t\t\t#TODO: this was copied from KPIC instrument. Check if any mods are needed for MODHIS\n",
    "\n",
    "\t\t\t#Get the Strehl Ratio\n",
    "\t\t\tSR = so.inst.strehl\n",
    "\n",
    "\t\t\tp_law_kolmogorov = -11./3\n",
    "\t\t\tp_law_ao_coro_filter = so.coron.p_law_dh#-p_law_kolmogorov \n",
    "\n",
    "\t\t\tr0 = 0.55e-6/(so.coron.telescope_seeing.to(u.arcsecond).value/206265) * u.m #Easiest to ditch the seeing unit here. \n",
    "\n",
    "\t\t\t#The AO control radius in units of lambda/D\n",
    "\t\t\tcutoff = so.coron.nactuators/2\n",
    "\n",
    "\t\t\tcontrast = np.zeros([np.size(separations),np.size(wvs)])\n",
    "\n",
    "\t\t\tif np.size(separations) < 2:\n",
    "\t\t\t\tseparations = np.array([separations.value])*separations.unit\n",
    "\n",
    "\t\t\t#Dimitri to put in references to this math\n",
    "\t\t\tr0_sc = r0 * (wvs/(0.55*u.micron))**(6./5)\n",
    "\t\t\tw_halo = so.coron.telescope_diameter / r0_sc\n",
    "\n",
    "\t\t\tfor i,sep in enumerate(separations):\n",
    "\t\t\t\tang_sep_resel_in = sep/206265/u.arcsecond*so.coron.telescope_diameter/wvs.to(u.m) #Convert separtiona from arcsec to units of lam/D\n",
    "\n",
    "\t\t\t\tf_halo = np.pi*(1-SR)*0.488/w_halo**2 * (1+11./6*(ang_sep_resel_in/w_halo)**2)**(-11/6.)\n",
    "\n",
    "\t\t\t\tcontrast_at_cutoff = np.pi*(1-SR)*0.488/w_halo**2 * (1+11./6*(cutoff/w_halo)**2)**(-11/6.)\n",
    "\t\t\t\t#Fill in the contrast array\n",
    "\t\t\t\tcontrast[i,:] = f_halo\n",
    "\n",
    "\t\t\t\tbiggest_ang_sep = np.abs(ang_sep_resel_in - cutoff) == np.min(np.abs(ang_sep_resel_in - cutoff))\n",
    "\n",
    "\t\t\t\tcontrast[i][ang_sep_resel_in < cutoff] = contrast_at_cutoff[ang_sep_resel_in < cutoff]*(ang_sep_resel_in[ang_sep_resel_in < cutoff]/cutoff)**p_law_ao_coro_filter\n",
    "\n",
    "\t\t\t#Apply the fiber contrast gain\n",
    "\t\t\tcontrast /= fiber_contrast_gain\n",
    "\n",
    "\t\t\t#Make sure nothing is greater than 1. \n",
    "\t\t\tcontrast[contrast>1] = 1.\n",
    "\n",
    "\t\t\treturn contrast\n",
    "\n",
    "\t\telse:\n",
    "\t\t\traise ValueError(\"'%s' is a not a supported 'mode'\" % (mode))"
   ]
  },
  {
   "cell_type": "code",
   "execution_count": null,
   "id": "b913b817",
   "metadata": {},
   "outputs": [],
   "source": [
    "def get_tele_throughput(wave,ploton=False,datapath = './data/throughput/hispec_subsystems_11032022/'):\n",
    "    \"\"\"\n",
    "    get throughput except leave out coupling\n",
    "\n",
    "    also store emissivity\n",
    "    \"\"\"\n",
    "    #plt.figure()\n",
    "\n",
    "    w_t,s_t = np.loadtxt(datapath + 'tel' + '/%s_throughput.csv'%i, delimiter=',',skiprows=1).T\n",
    "\n",
    "    # reinterpolate \n",
    "    x = wave.copy()\n",
    "    if np.min(x) > 10:\n",
    "        x/=1000 #convert nm to um\n",
    "\n",
    "    tck_t    = interpolate.splrep(w_t,s_t, k=2, s=0)\n",
    "    snew_t   = interpolate.splev(x,tck_t,der=0,ext=1)\n",
    "\n",
    "    return snew_t"
   ]
  }
 ],
 "metadata": {
  "kernelspec": {
   "display_name": "Python 3 (ipykernel)",
   "language": "python",
   "name": "python3"
  },
  "language_info": {
   "codemirror_mode": {
    "name": "ipython",
    "version": 3
   },
   "file_extension": ".py",
   "mimetype": "text/x-python",
   "name": "python",
   "nbconvert_exporter": "python",
   "pygments_lexer": "ipython3",
   "version": "3.9.12"
  }
 },
 "nbformat": 4,
 "nbformat_minor": 5
}
