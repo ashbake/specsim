{
 "cells": [
  {
   "cell_type": "code",
   "execution_count": 2,
   "metadata": {},
   "outputs": [
    {
     "name": "stdout",
     "output_type": "stream",
     "text": [
      " * Serving Flask app '__main__'\n",
      " * Debug mode: on\n"
     ]
    },
    {
     "name": "stderr",
     "output_type": "stream",
     "text": [
      "WARNING: This is a development server. Do not use it in a production deployment. Use a production WSGI server instead.\n",
      " * Running on http://127.0.0.1:5000\n",
      "Press CTRL+C to quit\n",
      " * Restarting with stat\n",
      "/usr/local/anaconda3/envs/surf_caltech/lib/python3.9/site-packages/traitlets/traitlets.py:2202: FutureWarning: Supporting extra quotes around strings is deprecated in traitlets 5.0. You can use 'hmac-sha256' instead of '\"hmac-sha256\"' if you require traitlets >=5.\n",
      "  warn(\n",
      "/usr/local/anaconda3/envs/surf_caltech/lib/python3.9/site-packages/traitlets/traitlets.py:2157: FutureWarning: Supporting extra quotes around Bytes is deprecated in traitlets 5.0. Use 'f6c49be5-f94f-4c49-b659-ea0d99eeb850' instead of 'b\"f6c49be5-f94f-4c49-b659-ea0d99eeb850\"'.\n",
      "  warn(\n",
      "Traceback (most recent call last):\n",
      "  File \"/usr/local/anaconda3/envs/surf_caltech/lib/python3.9/site-packages/ipykernel_launcher.py\", line 16, in <module>\n",
      "    app.launch_new_instance()\n",
      "  File \"/usr/local/anaconda3/envs/surf_caltech/lib/python3.9/site-packages/traitlets/config/application.py\", line 845, in launch_instance\n",
      "    app.initialize(argv)\n",
      "  File \"/usr/local/anaconda3/envs/surf_caltech/lib/python3.9/site-packages/traitlets/config/application.py\", line 88, in inner\n",
      "    return method(app, *args, **kwargs)\n",
      "  File \"/usr/local/anaconda3/envs/surf_caltech/lib/python3.9/site-packages/ipykernel/kernelapp.py\", line 632, in initialize\n",
      "    self.init_sockets()\n",
      "  File \"/usr/local/anaconda3/envs/surf_caltech/lib/python3.9/site-packages/ipykernel/kernelapp.py\", line 282, in init_sockets\n",
      "    self.shell_port = self._bind_socket(self.shell_socket, self.shell_port)\n",
      "  File \"/usr/local/anaconda3/envs/surf_caltech/lib/python3.9/site-packages/ipykernel/kernelapp.py\", line 229, in _bind_socket\n",
      "    return self._try_bind_socket(s, port)\n",
      "  File \"/usr/local/anaconda3/envs/surf_caltech/lib/python3.9/site-packages/ipykernel/kernelapp.py\", line 205, in _try_bind_socket\n",
      "    s.bind(\"tcp://%s:%i\" % (self.ip, port))\n",
      "  File \"/usr/local/anaconda3/envs/surf_caltech/lib/python3.9/site-packages/zmq/sugar/socket.py\", line 214, in bind\n",
      "    super().bind(addr)\n",
      "  File \"zmq/backend/cython/socket.pyx\", line 540, in zmq.backend.cython.socket.Socket.bind\n",
      "  File \"zmq/backend/cython/checkrc.pxd\", line 28, in zmq.backend.cython.checkrc._check_rc\n",
      "zmq.error.ZMQError: Address already in use\n"
     ]
    },
    {
     "ename": "SystemExit",
     "evalue": "1",
     "output_type": "error",
     "traceback": [
      "An exception has occurred, use %tb to see the full traceback.\n",
      "\u001b[0;31mSystemExit\u001b[0m\u001b[0;31m:\u001b[0m 1\n"
     ]
    }
   ],
   "source": [
    "from flask import Flask, render_template, request\n",
    "import matplotlib.pyplot as plt\n",
    "import numpy as np\n",
    "import io\n",
    "import base64\n",
    "\n",
    "app = Flask(__name__)\n",
    "\n",
    "@app.route(\"/\", methods=[\"GET\", \"POST\"])\n",
    "def index():\n",
    "    plot_url = None\n",
    "    sin_val = None\n",
    "    cos_val = None\n",
    "    \n",
    "    if request.method == \"POST\":\n",
    "        try:\n",
    "            x = float(request.form.get(\"x_value\"))\n",
    "            sin_val = np.sin(x)\n",
    "            cos_val = np.cos(x)\n",
    "            \n",
    "            plt.figure()\n",
    "            X = np.linspace(-2*np.pi, 2*np.pi, 400)\n",
    "            Y1 = np.sin(X)\n",
    "            Y2 = np.cos(X)\n",
    "            plt.plot(X, Y1, label=\"sin(x)\")\n",
    "            plt.plot(X, Y2, label=\"cos(x)\")\n",
    "            plt.axvline(x=x, color='r', linestyle='--', label=f'x={x}')\n",
    "            plt.title(\"sin(x) and cos(x)\")\n",
    "            plt.xlabel(\"x\")\n",
    "            plt.ylabel(\"y\")\n",
    "            plt.grid(True)\n",
    "            plt.legend()\n",
    "            \n",
    "            buf = io.BytesIO()\n",
    "            plt.savefig(buf, format=\"png\")\n",
    "            buf.seek(0)\n",
    "            plot_url = base64.b64encode(buf.getvalue()).decode()\n",
    "            buf.close()\n",
    "            \n",
    "        except ValueError:\n",
    "            return \"Invalid Input. Please enter a number.\"\n",
    "    \n",
    "    return render_template(\"index.html\", sin_val=sin_val, cos_val=cos_val, plot_url=plot_url)\n",
    "\n",
    "if __name__ == \"__main__\":\n",
    "    app.run(debug=True)"
   ]
  },
  {
   "cell_type": "code",
   "execution_count": null,
   "metadata": {},
   "outputs": [],
   "source": []
  }
 ],
 "metadata": {
  "kernelspec": {
   "display_name": "surf_caltech",
   "language": "python",
   "name": "python3"
  },
  "language_info": {
   "codemirror_mode": {
    "name": "ipython",
    "version": 3
   },
   "file_extension": ".py",
   "mimetype": "text/x-python",
   "name": "python",
   "nbconvert_exporter": "python",
   "pygments_lexer": "ipython3",
   "version": "3.9.12"
  },
  "orig_nbformat": 4
 },
 "nbformat": 4,
 "nbformat_minor": 2
}
